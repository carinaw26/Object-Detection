{
 "cells": [
  {
   "cell_type": "markdown",
   "id": "89f054c3",
   "metadata": {},
   "source": [
    "# Setup Object Detection"
   ]
  },
  {
   "cell_type": "code",
   "execution_count": 1,
   "id": "efc49afd",
   "metadata": {},
   "outputs": [],
   "source": [
    "import os\n",
    "import platform\n"
   ]
  },
  {
   "cell_type": "markdown",
   "id": "ed0bff80",
   "metadata": {},
   "source": [
    "### Prepare Directories"
   ]
  },
  {
   "cell_type": "code",
   "execution_count": 20,
   "id": "d7970b01",
   "metadata": {},
   "outputs": [],
   "source": [
    "CUSTOM_MODEL_NAME = 'extra_ah_objects_ssd_mobnet' \n",
    "TF_RECORD_SCRIPT_NAME = 'generate_tfrecord.py'\n",
    "LABEL_MAP_NAME = 'extra_ah_objects_label_map.pbtxt'\n",
    "PRETRAINED_MODEL_NAME = 'ssd_mobilenet_v2_fpnlite_640x640_coco17_tpu-8'\n",
    "PRETRAINED_MODEL_URL = 'http://download.tensorflow.org/models/object_detection/tf2/20200711/ssd_mobilenet_v2_fpnlite_640x640_coco17_tpu-8.tar.gz'\n",
    "paths = {\n",
    "    'WORKSPACE_PATH': os.path.join('Tensorflow', 'workspace'),\n",
    "    'SCRIPTS_PATH': os.path.join('Tensorflow','scripts'),\n",
    "    'APIMODEL_PATH': os.path.join('Tensorflow','models'),\n",
    "    'ANNOTATION_PATH': os.path.join('Tensorflow', 'workspace','annotations','extra-objects'),\n",
    "    #'IMAGE_PATH': os.path.join('..\\..\\images', 'ah-students'),\n",
    "    'IMAGE_PATH': os.path.join('images', 'AH-1-640x640'),\n",
    "    'MODEL_PATH': os.path.join('Tensorflow', 'workspace','models'),\n",
    "    'PRETRAINED_MODEL_PATH': os.path.join('Tensorflow', 'workspace','pre-trained-models'),\n",
    "    'PROTOC_PATH':os.path.join('Tensorflow','protoc'),\n",
    "    'OUTPUT_PATH': os.path.join('Tensorflow', 'workspace','models',CUSTOM_MODEL_NAME, 'export'),\n",
    "    'CHECKPOINT_PATH': os.path.join('Tensorflow', 'workspace','models',CUSTOM_MODEL_NAME)\n",
    " }"
   ]
  },
  {
   "cell_type": "code",
   "execution_count": 58,
   "id": "66ab119c",
   "metadata": {},
   "outputs": [],
   "source": [
    "files = {\n",
    "    'PIPELINE_CONFIG':os.path.join('Tensorflow', 'workspace','models', CUSTOM_MODEL_NAME, 'pipeline.config'),\n",
    "    'TF_RECORD_SCRIPT': os.path.join(paths['SCRIPTS_PATH'], TF_RECORD_SCRIPT_NAME), \n",
    "    'LABELMAP': os.path.join(paths['ANNOTATION_PATH'], LABEL_MAP_NAME)\n",
    "}"
   ]
  },
  {
   "cell_type": "code",
   "execution_count": 59,
   "id": "e0320c4c",
   "metadata": {},
   "outputs": [],
   "source": [
    "for path in paths.values():\n",
    "    if not os.path.exists(path):\n",
    "        if os.name == 'posix':\n",
    "            !mkdir -p {path}\n",
    "        if os.name == 'nt':\n",
    "            !mkdir {path}"
   ]
  },
  {
   "cell_type": "markdown",
   "id": "e1baea7e",
   "metadata": {},
   "source": [
    "### Download Object Detection Github Repo"
   ]
  },
  {
   "cell_type": "code",
   "execution_count": 4,
   "id": "73dbf32c",
   "metadata": {},
   "outputs": [
    {
     "name": "stdout",
     "output_type": "stream",
     "text": [
      "Collecting wget\n",
      "  Downloading wget-3.2.zip (10 kB)\n",
      "Building wheels for collected packages: wget\n",
      "  Building wheel for wget (setup.py): started\n",
      "  Building wheel for wget (setup.py): finished with status 'done'\n",
      "  Created wheel for wget: filename=wget-3.2-py3-none-any.whl size=9680 sha256=1780305818f920e707c8f43ebb9fb0fdb0fcbd0ecf0ac193ecb1bcd049e33c9e\n",
      "  Stored in directory: c:\\users\\wangxi01\\appdata\\local\\pip\\cache\\wheels\\04\\5f\\3e\\46cc37c5d698415694d83f607f833f83f0149e49b3af9d0f38\n",
      "Successfully built wget\n",
      "Installing collected packages: wget\n",
      "Successfully installed wget-3.2\n"
     ]
    },
    {
     "name": "stderr",
     "output_type": "stream",
     "text": [
      "WARNING: You are using pip version 21.1.3; however, version 21.3.1 is available.\n",
      "You should consider upgrading via the 'c:\\software\\python\\tf\\scripts\\python.exe -m pip install --upgrade pip' command.\n"
     ]
    }
   ],
   "source": [
    "!pip install wget\n",
    "import wget"
   ]
  },
  {
   "cell_type": "code",
   "execution_count": 5,
   "id": "cebc5a24",
   "metadata": {},
   "outputs": [
    {
     "name": "stderr",
     "output_type": "stream",
     "text": [
      "Cloning into 'Tensorflow\\models'...\n",
      "Checking out files:  60% (1688/2806)\n",
      "Checking out files:  61% (1712/2806)\n",
      "Checking out files:  62% (1740/2806)\n",
      "Checking out files:  63% (1768/2806)\n",
      "Checking out files:  64% (1796/2806)\n",
      "Checking out files:  65% (1824/2806)\n",
      "Checking out files:  66% (1852/2806)\n",
      "Checking out files:  67% (1881/2806)\n",
      "Checking out files:  68% (1909/2806)\n",
      "Checking out files:  69% (1937/2806)\n",
      "Checking out files:  70% (1965/2806)\n",
      "Checking out files:  71% (1993/2806)\n",
      "Checking out files:  72% (2021/2806)\n",
      "Checking out files:  73% (2049/2806)\n",
      "Checking out files:  74% (2077/2806)\n",
      "Checking out files:  75% (2105/2806)\n",
      "Checking out files:  76% (2133/2806)\n",
      "Checking out files:  77% (2161/2806)\n",
      "Checking out files:  78% (2189/2806)\n",
      "Checking out files:  79% (2217/2806)\n",
      "Checking out files:  80% (2245/2806)\n",
      "Checking out files:  81% (2273/2806)\n",
      "Checking out files:  82% (2301/2806)\n",
      "Checking out files:  83% (2329/2806)\n",
      "Checking out files:  84% (2358/2806)\n",
      "Checking out files:  85% (2386/2806)\n",
      "Checking out files:  86% (2414/2806)\n",
      "Checking out files:  87% (2442/2806)\n",
      "Checking out files:  88% (2470/2806)\n",
      "Checking out files:  89% (2498/2806)\n",
      "Checking out files:  90% (2526/2806)\n",
      "Checking out files:  91% (2554/2806)\n",
      "Checking out files:  92% (2582/2806)\n",
      "Checking out files:  93% (2610/2806)\n",
      "Checking out files:  94% (2638/2806)\n",
      "Checking out files:  95% (2666/2806)\n",
      "Checking out files:  96% (2694/2806)\n",
      "Checking out files:  97% (2722/2806)\n",
      "Checking out files:  98% (2750/2806)\n",
      "Checking out files:  99% (2778/2806)\n",
      "Checking out files: 100% (2806/2806)\n",
      "Checking out files: 100% (2806/2806), done.\n"
     ]
    }
   ],
   "source": [
    "if not os.path.exists(os.path.join(paths['APIMODEL_PATH'], 'research', 'object_detection')):\n",
    "    !git clone https://github.com/tensorflow/models {paths['APIMODEL_PATH']}"
   ]
  },
  {
   "cell_type": "markdown",
   "id": "b0c91863",
   "metadata": {},
   "source": [
    "### Install Tensorflow Object Detection"
   ]
  },
  {
   "cell_type": "code",
   "execution_count": 6,
   "id": "dae396ef",
   "metadata": {},
   "outputs": [
    {
     "name": "stdout",
     "output_type": "stream",
     "text": [
      "\r",
      "  0% [                                                                          ]       0 / 1524660\r",
      "  0% [                                                                          ]    8192 / 1524660\r",
      "  1% [                                                                          ]   16384 / 1524660\r",
      "  1% [.                                                                         ]   24576 / 1524660\r",
      "  2% [.                                                                         ]   32768 / 1524660\r",
      "  2% [.                                                                         ]   40960 / 1524660\r",
      "  3% [..                                                                        ]   49152 / 1524660\r",
      "  3% [..                                                                        ]   57344 / 1524660\r",
      "  4% [...                                                                       ]   65536 / 1524660\r",
      "  4% [...                                                                       ]   73728 / 1524660\r",
      "  5% [...                                                                       ]   81920 / 1524660\r",
      "  5% [....                                                                      ]   90112 / 1524660\r",
      "  6% [....                                                                      ]   98304 / 1524660\r",
      "  6% [.....                                                                     ]  106496 / 1524660\r",
      "  7% [.....                                                                     ]  114688 / 1524660\r",
      "  8% [.....                                                                     ]  122880 / 1524660\r",
      "  8% [......                                                                    ]  131072 / 1524660\r",
      "  9% [......                                                                    ]  139264 / 1524660\r",
      "  9% [.......                                                                   ]  147456 / 1524660\r",
      " 10% [.......                                                                   ]  155648 / 1524660\r",
      " 10% [.......                                                                   ]  163840 / 1524660\r",
      " 11% [........                                                                  ]  172032 / 1524660\r",
      " 11% [........                                                                  ]  180224 / 1524660\r",
      " 12% [.........                                                                 ]  188416 / 1524660\r",
      " 12% [.........                                                                 ]  196608 / 1524660\r",
      " 13% [.........                                                                 ]  204800 / 1524660\r",
      " 13% [..........                                                                ]  212992 / 1524660\r",
      " 14% [..........                                                                ]  221184 / 1524660\r",
      " 15% [...........                                                               ]  229376 / 1524660\r",
      " 15% [...........                                                               ]  237568 / 1524660\r",
      " 16% [...........                                                               ]  245760 / 1524660\r",
      " 16% [............                                                              ]  253952 / 1524660\r",
      " 17% [............                                                              ]  262144 / 1524660\r",
      " 17% [.............                                                             ]  270336 / 1524660\r",
      " 18% [.............                                                             ]  278528 / 1524660\r",
      " 18% [.............                                                             ]  286720 / 1524660\r",
      " 19% [..............                                                            ]  294912 / 1524660\r",
      " 19% [..............                                                            ]  303104 / 1524660\r",
      " 20% [...............                                                           ]  311296 / 1524660\r",
      " 20% [...............                                                           ]  319488 / 1524660\r",
      " 21% [...............                                                           ]  327680 / 1524660\r",
      " 22% [................                                                          ]  335872 / 1524660\r",
      " 22% [................                                                          ]  344064 / 1524660\r",
      " 23% [.................                                                         ]  352256 / 1524660\r",
      " 23% [.................                                                         ]  360448 / 1524660\r",
      " 24% [.................                                                         ]  368640 / 1524660\r",
      " 24% [..................                                                        ]  376832 / 1524660\r",
      " 25% [..................                                                        ]  385024 / 1524660\r",
      " 25% [...................                                                       ]  393216 / 1524660\r",
      " 26% [...................                                                       ]  401408 / 1524660\r",
      " 26% [...................                                                       ]  409600 / 1524660\r",
      " 27% [....................                                                      ]  417792 / 1524660\r",
      " 27% [....................                                                      ]  425984 / 1524660\r",
      " 28% [.....................                                                     ]  434176 / 1524660\r",
      " 29% [.....................                                                     ]  442368 / 1524660\r",
      " 29% [.....................                                                     ]  450560 / 1524660\r",
      " 30% [......................                                                    ]  458752 / 1524660\r",
      " 30% [......................                                                    ]  466944 / 1524660\r",
      " 31% [.......................                                                   ]  475136 / 1524660\r",
      " 31% [.......................                                                   ]  483328 / 1524660\r",
      " 32% [.......................                                                   ]  491520 / 1524660\r",
      " 32% [........................                                                  ]  499712 / 1524660\r",
      " 33% [........................                                                  ]  507904 / 1524660\r",
      " 33% [.........................                                                 ]  516096 / 1524660\r",
      " 34% [.........................                                                 ]  524288 / 1524660\r",
      " 34% [.........................                                                 ]  532480 / 1524660\r",
      " 35% [..........................                                                ]  540672 / 1524660\r",
      " 35% [..........................                                                ]  548864 / 1524660\r",
      " 36% [...........................                                               ]  557056 / 1524660\r",
      " 37% [...........................                                               ]  565248 / 1524660\r",
      " 37% [...........................                                               ]  573440 / 1524660\r",
      " 38% [............................                                              ]  581632 / 1524660\r",
      " 38% [............................                                              ]  589824 / 1524660\r",
      " 39% [.............................                                             ]  598016 / 1524660\r",
      " 39% [.............................                                             ]  606208 / 1524660\r",
      " 40% [.............................                                             ]  614400 / 1524660\r",
      " 40% [..............................                                            ]  622592 / 1524660\r",
      " 41% [..............................                                            ]  630784 / 1524660\r",
      " 41% [...............................                                           ]  638976 / 1524660\r",
      " 42% [...............................                                           ]  647168 / 1524660\r",
      " 42% [...............................                                           ]  655360 / 1524660\r",
      " 43% [................................                                          ]  663552 / 1524660\r",
      " 44% [................................                                          ]  671744 / 1524660\r",
      " 44% [.................................                                         ]  679936 / 1524660\r",
      " 45% [.................................                                         ]  688128 / 1524660\r",
      " 45% [.................................                                         ]  696320 / 1524660\r",
      " 46% [..................................                                        ]  704512 / 1524660\r",
      " 46% [..................................                                        ]  712704 / 1524660\r",
      " 47% [..................................                                        ]  720896 / 1524660\r",
      " 47% [...................................                                       ]  729088 / 1524660\r",
      " 48% [...................................                                       ]  737280 / 1524660\r",
      " 48% [....................................                                      ]  745472 / 1524660\r",
      " 49% [....................................                                      ]  753664 / 1524660\r",
      " 49% [....................................                                      ]  761856 / 1524660\r",
      " 50% [.....................................                                     ]  770048 / 1524660\r",
      " 51% [.....................................                                     ]  778240 / 1524660\r",
      " 51% [......................................                                    ]  786432 / 1524660\r",
      " 52% [......................................                                    ]  794624 / 1524660\r",
      " 52% [......................................                                    ]  802816 / 1524660\r",
      " 53% [.......................................                                   ]  811008 / 1524660\r",
      " 53% [.......................................                                   ]  819200 / 1524660\r",
      " 54% [........................................                                  ]  827392 / 1524660\r",
      " 54% [........................................                                  ]  835584 / 1524660\r",
      " 55% [........................................                                  ]  843776 / 1524660\r",
      " 55% [.........................................                                 ]  851968 / 1524660\r",
      " 56% [.........................................                                 ]  860160 / 1524660\r",
      " 56% [..........................................                                ]  868352 / 1524660\r",
      " 57% [..........................................                                ]  876544 / 1524660"
     ]
    },
    {
     "name": "stdout",
     "output_type": "stream",
     "text": [
      "100% [..........................................................................] 1524660 / 1524660        1 file(s) moved.\n"
     ]
    },
    {
     "name": "stderr",
     "output_type": "stream",
     "text": [
      "object_detection/protos/*.proto: No such file or directory\n"
     ]
    },
    {
     "name": "stdout",
     "output_type": "stream",
     "text": [
      "Obtaining file:///C:/Work/ML/Carina/Object-Detection/Object-Detection-Repo/workspace/Tensorflow/models/research/slim\n",
      "Requirement already satisfied: six in c:\\software\\python\\tf\\lib\\site-packages (from slim==0.1) (1.15.0)\n",
      "Requirement already satisfied: tf-slim>=1.1 in c:\\software\\python\\tf\\lib\\site-packages (from slim==0.1) (1.1.0)\n",
      "Requirement already satisfied: absl-py>=0.2.2 in c:\\software\\python\\tf\\lib\\site-packages (from tf-slim>=1.1->slim==0.1) (0.12.0)\n",
      "Installing collected packages: slim\n",
      "  Running setup.py develop for slim\n",
      "Successfully installed slim-0.1\n"
     ]
    },
    {
     "name": "stderr",
     "output_type": "stream",
     "text": [
      "WARNING: You are using pip version 21.1.3; however, version 21.3.1 is available.\n",
      "You should consider upgrading via the 'c:\\software\\python\\tf\\scripts\\python.exe -m pip install --upgrade pip' command.\n"
     ]
    }
   ],
   "source": [
    "\n",
    "if os.name=='posix':  \n",
    "    if platform.system() == 'Darwin':\n",
    "        url=\"https://github.com/protocolbuffers/protobuf/releases/download/v3.19.1/protoc-3.19.1-osx-x86_64.zip\"\n",
    "        wget.download(url)\n",
    "        !mv protoc-3.19.1-osx-x86_64.zip {paths['PROTOC_PATH']}\n",
    "        !cd {paths['PROTOC_PATH']} && tar -xf protoc-3.19.1-osx-x86_64.zip\n",
    "        os.environ['PATH'] += os.pathsep + os.path.abspath(os.path.join(paths['PROTOC_PATH'], 'bin'))\n",
    "    else: # Linux\n",
    "        !apt-get install protobuf-compiler\n",
    "    !cd Tensorflow/models/research && protoc object_detection/protos/*.proto --python_out=. && cp object_detection/packages/tf2/setup.py . && python -m pip install . \n",
    "    \n",
    "if os.name=='nt':\n",
    "    url=\"https://github.com/protocolbuffers/protobuf/releases/download/v3.19.1/protoc-3.19.1-win64.zip\"\n",
    "    wget.download(url)\n",
    "    !move protoc-3.19.1-win64.zip {paths['PROTOC_PATH']}\n",
    "    !cd {paths['PROTOC_PATH']} && tar -xf protoc-3.19.1-win64.zip\n",
    "    os.environ['PATH'] += os.pathsep + os.path.abspath(os.path.join(paths['PROTOC_PATH'], 'bin'))   \n",
    "    !cd Tensorflow/models/research && protoc object_detection/protos/*.proto --python_out=. && copy object_detection\\\\packages\\\\tf2\\\\setup.py setup.py && python setup.py build && python setup.py install\n",
    "    !cd Tensorflow/models/research/slim && pip install -e . "
   ]
  },
  {
   "cell_type": "code",
   "execution_count": 7,
   "id": "4d3410ed",
   "metadata": {},
   "outputs": [
    {
     "name": "stderr",
     "output_type": "stream",
     "text": [
      "Running tests under Python 3.9.5: C:\\Software\\Python\\tf\\Scripts\\python.exe\n",
      "[ RUN      ] ModelBuilderTF2Test.test_create_center_net_deepmac\n",
      "2021-11-06 20:14:29.293918: I tensorflow/core/platform/cpu_feature_guard.cc:142] This TensorFlow binary is optimized with oneAPI Deep Neural Network Library (oneDNN) to use the following CPU instructions in performance-critical operations:  AVX AVX2\n",
      "To enable them in other operations, rebuild TensorFlow with the appropriate compiler flags.\n",
      "2021-11-06 20:14:30.511663: I tensorflow/core/common_runtime/gpu/gpu_device.cc:1510] Created device /job:localhost/replica:0/task:0/device:GPU:0 with 2156 MB memory:  -> device: 0, name: Quadro T1000, pci bus id: 0000:01:00.0, compute capability: 7.5\n",
      "C:\\Software\\Python\\tf\\lib\\site-packages\\object_detection\\builders\\model_builder.py:1100: DeprecationWarning: The 'warn' function is deprecated, use 'warning' instead\n",
      "  logging.warn(('Building experimental DeepMAC meta-arch.'\n",
      "W1106 20:14:30.766219 10732 model_builder.py:1100] Building experimental DeepMAC meta-arch. Some features may be omitted.\n",
      "INFO:tensorflow:time(__main__.ModelBuilderTF2Test.test_create_center_net_deepmac): 1.66s\n",
      "I1106 20:14:30.939228 10732 test_util.py:2188] time(__main__.ModelBuilderTF2Test.test_create_center_net_deepmac): 1.66s\n",
      "[       OK ] ModelBuilderTF2Test.test_create_center_net_deepmac\n",
      "[ RUN      ] ModelBuilderTF2Test.test_create_center_net_model0 (customize_head_params=True)\n",
      "INFO:tensorflow:time(__main__.ModelBuilderTF2Test.test_create_center_net_model0 (customize_head_params=True)): 1.01s\n",
      "I1106 20:14:31.953227 10732 test_util.py:2188] time(__main__.ModelBuilderTF2Test.test_create_center_net_model0 (customize_head_params=True)): 1.01s\n",
      "[       OK ] ModelBuilderTF2Test.test_create_center_net_model0 (customize_head_params=True)\n",
      "[ RUN      ] ModelBuilderTF2Test.test_create_center_net_model1 (customize_head_params=False)\n",
      "INFO:tensorflow:time(__main__.ModelBuilderTF2Test.test_create_center_net_model1 (customize_head_params=False)): 0.18s\n",
      "I1106 20:14:32.138220 10732 test_util.py:2188] time(__main__.ModelBuilderTF2Test.test_create_center_net_model1 (customize_head_params=False)): 0.18s\n",
      "[       OK ] ModelBuilderTF2Test.test_create_center_net_model1 (customize_head_params=False)\n",
      "[ RUN      ] ModelBuilderTF2Test.test_create_center_net_model_from_keypoints\n",
      "INFO:tensorflow:time(__main__.ModelBuilderTF2Test.test_create_center_net_model_from_keypoints): 0.16s\n",
      "I1106 20:14:32.303219 10732 test_util.py:2188] time(__main__.ModelBuilderTF2Test.test_create_center_net_model_from_keypoints): 0.16s\n",
      "[       OK ] ModelBuilderTF2Test.test_create_center_net_model_from_keypoints\n",
      "[ RUN      ] ModelBuilderTF2Test.test_create_center_net_model_mobilenet\n",
      "INFO:tensorflow:time(__main__.ModelBuilderTF2Test.test_create_center_net_model_mobilenet): 1.39s\n",
      "I1106 20:14:33.695316 10732 test_util.py:2188] time(__main__.ModelBuilderTF2Test.test_create_center_net_model_mobilenet): 1.39s\n",
      "[       OK ] ModelBuilderTF2Test.test_create_center_net_model_mobilenet\n",
      "[ RUN      ] ModelBuilderTF2Test.test_create_experimental_model\n",
      "INFO:tensorflow:time(__main__.ModelBuilderTF2Test.test_create_experimental_model): 0.0s\n",
      "I1106 20:14:33.697315 10732 test_util.py:2188] time(__main__.ModelBuilderTF2Test.test_create_experimental_model): 0.0s\n",
      "[       OK ] ModelBuilderTF2Test.test_create_experimental_model\n",
      "[ RUN      ] ModelBuilderTF2Test.test_create_faster_rcnn_from_config_with_crop_feature0 (True)\n",
      "INFO:tensorflow:time(__main__.ModelBuilderTF2Test.test_create_faster_rcnn_from_config_with_crop_feature0 (True)): 0.02s\n",
      "I1106 20:14:33.712316 10732 test_util.py:2188] time(__main__.ModelBuilderTF2Test.test_create_faster_rcnn_from_config_with_crop_feature0 (True)): 0.02s\n",
      "[       OK ] ModelBuilderTF2Test.test_create_faster_rcnn_from_config_with_crop_feature0 (True)\n",
      "[ RUN      ] ModelBuilderTF2Test.test_create_faster_rcnn_from_config_with_crop_feature1 (False)\n",
      "INFO:tensorflow:time(__main__.ModelBuilderTF2Test.test_create_faster_rcnn_from_config_with_crop_feature1 (False)): 0.01s\n",
      "I1106 20:14:33.722316 10732 test_util.py:2188] time(__main__.ModelBuilderTF2Test.test_create_faster_rcnn_from_config_with_crop_feature1 (False)): 0.01s\n",
      "[       OK ] ModelBuilderTF2Test.test_create_faster_rcnn_from_config_with_crop_feature1 (False)\n",
      "[ RUN      ] ModelBuilderTF2Test.test_create_faster_rcnn_model_from_config_with_example_miner\n",
      "INFO:tensorflow:time(__main__.ModelBuilderTF2Test.test_create_faster_rcnn_model_from_config_with_example_miner): 0.01s\n",
      "I1106 20:14:33.733316 10732 test_util.py:2188] time(__main__.ModelBuilderTF2Test.test_create_faster_rcnn_model_from_config_with_example_miner): 0.01s\n",
      "[       OK ] ModelBuilderTF2Test.test_create_faster_rcnn_model_from_config_with_example_miner\n",
      "[ RUN      ] ModelBuilderTF2Test.test_create_faster_rcnn_models_from_config_faster_rcnn_with_matmul\n",
      "INFO:tensorflow:time(__main__.ModelBuilderTF2Test.test_create_faster_rcnn_models_from_config_faster_rcnn_with_matmul): 0.17s\n",
      "I1106 20:14:33.902320 10732 test_util.py:2188] time(__main__.ModelBuilderTF2Test.test_create_faster_rcnn_models_from_config_faster_rcnn_with_matmul): 0.17s\n",
      "[       OK ] ModelBuilderTF2Test.test_create_faster_rcnn_models_from_config_faster_rcnn_with_matmul\n",
      "[ RUN      ] ModelBuilderTF2Test.test_create_faster_rcnn_models_from_config_faster_rcnn_without_matmul\n",
      "INFO:tensorflow:time(__main__.ModelBuilderTF2Test.test_create_faster_rcnn_models_from_config_faster_rcnn_without_matmul): 0.06s\n",
      "I1106 20:14:33.966319 10732 test_util.py:2188] time(__main__.ModelBuilderTF2Test.test_create_faster_rcnn_models_from_config_faster_rcnn_without_matmul): 0.06s\n",
      "[       OK ] ModelBuilderTF2Test.test_create_faster_rcnn_models_from_config_faster_rcnn_without_matmul\n",
      "[ RUN      ] ModelBuilderTF2Test.test_create_faster_rcnn_models_from_config_mask_rcnn_with_matmul\n",
      "INFO:tensorflow:time(__main__.ModelBuilderTF2Test.test_create_faster_rcnn_models_from_config_mask_rcnn_with_matmul): 0.07s\n",
      "I1106 20:14:34.031319 10732 test_util.py:2188] time(__main__.ModelBuilderTF2Test.test_create_faster_rcnn_models_from_config_mask_rcnn_with_matmul): 0.07s\n",
      "[       OK ] ModelBuilderTF2Test.test_create_faster_rcnn_models_from_config_mask_rcnn_with_matmul\n",
      "[ RUN      ] ModelBuilderTF2Test.test_create_faster_rcnn_models_from_config_mask_rcnn_without_matmul\n",
      "INFO:tensorflow:time(__main__.ModelBuilderTF2Test.test_create_faster_rcnn_models_from_config_mask_rcnn_without_matmul): 0.08s\n",
      "I1106 20:14:34.108322 10732 test_util.py:2188] time(__main__.ModelBuilderTF2Test.test_create_faster_rcnn_models_from_config_mask_rcnn_without_matmul): 0.08s\n",
      "[       OK ] ModelBuilderTF2Test.test_create_faster_rcnn_models_from_config_mask_rcnn_without_matmul\n",
      "[ RUN      ] ModelBuilderTF2Test.test_create_rfcn_model_from_config\n",
      "INFO:tensorflow:time(__main__.ModelBuilderTF2Test.test_create_rfcn_model_from_config): 0.07s\n",
      "I1106 20:14:34.183320 10732 test_util.py:2188] time(__main__.ModelBuilderTF2Test.test_create_rfcn_model_from_config): 0.07s\n",
      "[       OK ] ModelBuilderTF2Test.test_create_rfcn_model_from_config\n",
      "[ RUN      ] ModelBuilderTF2Test.test_create_ssd_fpn_model_from_config\n",
      "INFO:tensorflow:time(__main__.ModelBuilderTF2Test.test_create_ssd_fpn_model_from_config): 0.02s\n",
      "I1106 20:14:34.204316 10732 test_util.py:2188] time(__main__.ModelBuilderTF2Test.test_create_ssd_fpn_model_from_config): 0.02s\n",
      "[       OK ] ModelBuilderTF2Test.test_create_ssd_fpn_model_from_config\n",
      "[ RUN      ] ModelBuilderTF2Test.test_create_ssd_models_from_config\n",
      "I1106 20:14:34.324316 10732 ssd_efficientnet_bifpn_feature_extractor.py:142] EfficientDet EfficientNet backbone version: efficientnet-b0\n",
      "I1106 20:14:34.324316 10732 ssd_efficientnet_bifpn_feature_extractor.py:144] EfficientDet BiFPN num filters: 64\n",
      "I1106 20:14:34.324316 10732 ssd_efficientnet_bifpn_feature_extractor.py:145] EfficientDet BiFPN num iterations: 3\n",
      "I1106 20:14:34.326316 10732 efficientnet_model.py:147] round_filter input=32 output=32\n",
      "I1106 20:14:34.339316 10732 efficientnet_model.py:147] round_filter input=32 output=32\n",
      "I1106 20:14:34.339316 10732 efficientnet_model.py:147] round_filter input=16 output=16\n",
      "I1106 20:14:34.387316 10732 efficientnet_model.py:147] round_filter input=16 output=16\n",
      "I1106 20:14:34.387316 10732 efficientnet_model.py:147] round_filter input=24 output=24\n",
      "I1106 20:14:34.508315 10732 efficientnet_model.py:147] round_filter input=24 output=24\n",
      "I1106 20:14:34.508315 10732 efficientnet_model.py:147] round_filter input=40 output=40\n",
      "I1106 20:14:34.629316 10732 efficientnet_model.py:147] round_filter input=40 output=40\n",
      "I1106 20:14:34.629316 10732 efficientnet_model.py:147] round_filter input=80 output=80\n",
      "I1106 20:14:34.811316 10732 efficientnet_model.py:147] round_filter input=80 output=80\n",
      "I1106 20:14:34.811316 10732 efficientnet_model.py:147] round_filter input=112 output=112\n",
      "I1106 20:14:34.992316 10732 efficientnet_model.py:147] round_filter input=112 output=112\n",
      "I1106 20:14:34.992316 10732 efficientnet_model.py:147] round_filter input=192 output=192\n",
      "I1106 20:14:35.242316 10732 efficientnet_model.py:147] round_filter input=192 output=192\n",
      "I1106 20:14:35.243316 10732 efficientnet_model.py:147] round_filter input=320 output=320\n",
      "I1106 20:14:35.302316 10732 efficientnet_model.py:147] round_filter input=1280 output=1280\n",
      "I1106 20:14:35.326316 10732 efficientnet_model.py:458] Building model efficientnet with params ModelConfig(width_coefficient=1.0, depth_coefficient=1.0, resolution=224, dropout_rate=0.2, blocks=(BlockConfig(input_filters=32, output_filters=16, kernel_size=3, num_repeat=1, expand_ratio=1, strides=(1, 1), se_ratio=0.25, id_skip=True, fused_conv=False, conv_type='depthwise'), BlockConfig(input_filters=16, output_filters=24, kernel_size=3, num_repeat=2, expand_ratio=6, strides=(2, 2), se_ratio=0.25, id_skip=True, fused_conv=False, conv_type='depthwise'), BlockConfig(input_filters=24, output_filters=40, kernel_size=5, num_repeat=2, expand_ratio=6, strides=(2, 2), se_ratio=0.25, id_skip=True, fused_conv=False, conv_type='depthwise'), BlockConfig(input_filters=40, output_filters=80, kernel_size=3, num_repeat=3, expand_ratio=6, strides=(2, 2), se_ratio=0.25, id_skip=True, fused_conv=False, conv_type='depthwise'), BlockConfig(input_filters=80, output_filters=112, kernel_size=5, num_repeat=3, expand_ratio=6, strides=(1, 1), se_ratio=0.25, id_skip=True, fused_conv=False, conv_type='depthwise'), BlockConfig(input_filters=112, output_filters=192, kernel_size=5, num_repeat=4, expand_ratio=6, strides=(2, 2), se_ratio=0.25, id_skip=True, fused_conv=False, conv_type='depthwise'), BlockConfig(input_filters=192, output_filters=320, kernel_size=3, num_repeat=1, expand_ratio=6, strides=(1, 1), se_ratio=0.25, id_skip=True, fused_conv=False, conv_type='depthwise')), stem_base_filters=32, top_base_filters=1280, activation='simple_swish', batch_norm='default', bn_momentum=0.99, bn_epsilon=0.001, weight_decay=5e-06, drop_connect_rate=0.2, depth_divisor=8, min_depth=None, use_se=True, input_channels=3, num_classes=1000, model_name='efficientnet', rescale_input=False, data_format='channels_last', dtype='float32')\n",
      "I1106 20:14:35.363316 10732 ssd_efficientnet_bifpn_feature_extractor.py:142] EfficientDet EfficientNet backbone version: efficientnet-b1\n",
      "I1106 20:14:35.363316 10732 ssd_efficientnet_bifpn_feature_extractor.py:144] EfficientDet BiFPN num filters: 88\n",
      "I1106 20:14:35.363316 10732 ssd_efficientnet_bifpn_feature_extractor.py:145] EfficientDet BiFPN num iterations: 4\n",
      "I1106 20:14:35.364316 10732 efficientnet_model.py:147] round_filter input=32 output=32\n",
      "I1106 20:14:35.377316 10732 efficientnet_model.py:147] round_filter input=32 output=32\n",
      "I1106 20:14:35.377316 10732 efficientnet_model.py:147] round_filter input=16 output=16\n",
      "I1106 20:14:35.474316 10732 efficientnet_model.py:147] round_filter input=16 output=16\n",
      "I1106 20:14:35.474316 10732 efficientnet_model.py:147] round_filter input=24 output=24\n",
      "I1106 20:14:35.654350 10732 efficientnet_model.py:147] round_filter input=24 output=24\n",
      "I1106 20:14:35.654350 10732 efficientnet_model.py:147] round_filter input=40 output=40\n",
      "I1106 20:14:35.831316 10732 efficientnet_model.py:147] round_filter input=40 output=40\n",
      "I1106 20:14:35.831316 10732 efficientnet_model.py:147] round_filter input=80 output=80\n",
      "I1106 20:14:36.080316 10732 efficientnet_model.py:147] round_filter input=80 output=80\n",
      "I1106 20:14:36.080316 10732 efficientnet_model.py:147] round_filter input=112 output=112\n",
      "I1106 20:14:36.329316 10732 efficientnet_model.py:147] round_filter input=112 output=112\n",
      "I1106 20:14:36.329316 10732 efficientnet_model.py:147] round_filter input=192 output=192\n",
      "I1106 20:14:36.635316 10732 efficientnet_model.py:147] round_filter input=192 output=192\n",
      "I1106 20:14:36.635316 10732 efficientnet_model.py:147] round_filter input=320 output=320\n",
      "I1106 20:14:36.849316 10732 efficientnet_model.py:147] round_filter input=1280 output=1280\n",
      "I1106 20:14:36.873316 10732 efficientnet_model.py:458] Building model efficientnet with params ModelConfig(width_coefficient=1.0, depth_coefficient=1.1, resolution=240, dropout_rate=0.2, blocks=(BlockConfig(input_filters=32, output_filters=16, kernel_size=3, num_repeat=1, expand_ratio=1, strides=(1, 1), se_ratio=0.25, id_skip=True, fused_conv=False, conv_type='depthwise'), BlockConfig(input_filters=16, output_filters=24, kernel_size=3, num_repeat=2, expand_ratio=6, strides=(2, 2), se_ratio=0.25, id_skip=True, fused_conv=False, conv_type='depthwise'), BlockConfig(input_filters=24, output_filters=40, kernel_size=5, num_repeat=2, expand_ratio=6, strides=(2, 2), se_ratio=0.25, id_skip=True, fused_conv=False, conv_type='depthwise'), BlockConfig(input_filters=40, output_filters=80, kernel_size=3, num_repeat=3, expand_ratio=6, strides=(2, 2), se_ratio=0.25, id_skip=True, fused_conv=False, conv_type='depthwise'), BlockConfig(input_filters=80, output_filters=112, kernel_size=5, num_repeat=3, expand_ratio=6, strides=(1, 1), se_ratio=0.25, id_skip=True, fused_conv=False, conv_type='depthwise'), BlockConfig(input_filters=112, output_filters=192, kernel_size=5, num_repeat=4, expand_ratio=6, strides=(2, 2), se_ratio=0.25, id_skip=True, fused_conv=False, conv_type='depthwise'), BlockConfig(input_filters=192, output_filters=320, kernel_size=3, num_repeat=1, expand_ratio=6, strides=(1, 1), se_ratio=0.25, id_skip=True, fused_conv=False, conv_type='depthwise')), stem_base_filters=32, top_base_filters=1280, activation='simple_swish', batch_norm='default', bn_momentum=0.99, bn_epsilon=0.001, weight_decay=5e-06, drop_connect_rate=0.2, depth_divisor=8, min_depth=None, use_se=True, input_channels=3, num_classes=1000, model_name='efficientnet', rescale_input=False, data_format='channels_last', dtype='float32')\n",
      "I1106 20:14:36.919316 10732 ssd_efficientnet_bifpn_feature_extractor.py:142] EfficientDet EfficientNet backbone version: efficientnet-b2\n",
      "I1106 20:14:36.919316 10732 ssd_efficientnet_bifpn_feature_extractor.py:144] EfficientDet BiFPN num filters: 112\n",
      "I1106 20:14:36.919316 10732 ssd_efficientnet_bifpn_feature_extractor.py:145] EfficientDet BiFPN num iterations: 5\n",
      "I1106 20:14:36.920316 10732 efficientnet_model.py:147] round_filter input=32 output=32\n",
      "I1106 20:14:36.933316 10732 efficientnet_model.py:147] round_filter input=32 output=32\n",
      "I1106 20:14:36.933316 10732 efficientnet_model.py:147] round_filter input=16 output=16\n",
      "I1106 20:14:37.030316 10732 efficientnet_model.py:147] round_filter input=16 output=16\n",
      "I1106 20:14:37.030316 10732 efficientnet_model.py:147] round_filter input=24 output=24\n",
      "I1106 20:14:37.211320 10732 efficientnet_model.py:147] round_filter input=24 output=24\n",
      "I1106 20:14:37.211320 10732 efficientnet_model.py:147] round_filter input=40 output=48\n",
      "I1106 20:14:37.395316 10732 efficientnet_model.py:147] round_filter input=40 output=48\n",
      "I1106 20:14:37.395316 10732 efficientnet_model.py:147] round_filter input=80 output=88\n",
      "I1106 20:14:37.646316 10732 efficientnet_model.py:147] round_filter input=80 output=88\n",
      "I1106 20:14:37.646316 10732 efficientnet_model.py:147] round_filter input=112 output=120\n",
      "I1106 20:14:37.894316 10732 efficientnet_model.py:147] round_filter input=112 output=120\n",
      "I1106 20:14:37.895316 10732 efficientnet_model.py:147] round_filter input=192 output=208\n",
      "I1106 20:14:38.204316 10732 efficientnet_model.py:147] round_filter input=192 output=208\n",
      "I1106 20:14:38.204316 10732 efficientnet_model.py:147] round_filter input=320 output=352\n",
      "I1106 20:14:38.335316 10732 efficientnet_model.py:147] round_filter input=1280 output=1408\n"
     ]
    },
    {
     "name": "stderr",
     "output_type": "stream",
     "text": [
      "I1106 20:14:38.358316 10732 efficientnet_model.py:458] Building model efficientnet with params ModelConfig(width_coefficient=1.1, depth_coefficient=1.2, resolution=260, dropout_rate=0.3, blocks=(BlockConfig(input_filters=32, output_filters=16, kernel_size=3, num_repeat=1, expand_ratio=1, strides=(1, 1), se_ratio=0.25, id_skip=True, fused_conv=False, conv_type='depthwise'), BlockConfig(input_filters=16, output_filters=24, kernel_size=3, num_repeat=2, expand_ratio=6, strides=(2, 2), se_ratio=0.25, id_skip=True, fused_conv=False, conv_type='depthwise'), BlockConfig(input_filters=24, output_filters=40, kernel_size=5, num_repeat=2, expand_ratio=6, strides=(2, 2), se_ratio=0.25, id_skip=True, fused_conv=False, conv_type='depthwise'), BlockConfig(input_filters=40, output_filters=80, kernel_size=3, num_repeat=3, expand_ratio=6, strides=(2, 2), se_ratio=0.25, id_skip=True, fused_conv=False, conv_type='depthwise'), BlockConfig(input_filters=80, output_filters=112, kernel_size=5, num_repeat=3, expand_ratio=6, strides=(1, 1), se_ratio=0.25, id_skip=True, fused_conv=False, conv_type='depthwise'), BlockConfig(input_filters=112, output_filters=192, kernel_size=5, num_repeat=4, expand_ratio=6, strides=(2, 2), se_ratio=0.25, id_skip=True, fused_conv=False, conv_type='depthwise'), BlockConfig(input_filters=192, output_filters=320, kernel_size=3, num_repeat=1, expand_ratio=6, strides=(1, 1), se_ratio=0.25, id_skip=True, fused_conv=False, conv_type='depthwise')), stem_base_filters=32, top_base_filters=1280, activation='simple_swish', batch_norm='default', bn_momentum=0.99, bn_epsilon=0.001, weight_decay=5e-06, drop_connect_rate=0.2, depth_divisor=8, min_depth=None, use_se=True, input_channels=3, num_classes=1000, model_name='efficientnet', rescale_input=False, data_format='channels_last', dtype='float32')\n",
      "I1106 20:14:38.400316 10732 ssd_efficientnet_bifpn_feature_extractor.py:142] EfficientDet EfficientNet backbone version: efficientnet-b3\n",
      "I1106 20:14:38.400316 10732 ssd_efficientnet_bifpn_feature_extractor.py:144] EfficientDet BiFPN num filters: 160\n",
      "I1106 20:14:38.400316 10732 ssd_efficientnet_bifpn_feature_extractor.py:145] EfficientDet BiFPN num iterations: 6\n",
      "I1106 20:14:38.402316 10732 efficientnet_model.py:147] round_filter input=32 output=40\n",
      "I1106 20:14:38.414314 10732 efficientnet_model.py:147] round_filter input=32 output=40\n",
      "I1106 20:14:38.414314 10732 efficientnet_model.py:147] round_filter input=16 output=24\n",
      "I1106 20:14:38.509349 10732 efficientnet_model.py:147] round_filter input=16 output=24\n",
      "I1106 20:14:38.510315 10732 efficientnet_model.py:147] round_filter input=24 output=32\n",
      "I1106 20:14:38.687315 10732 efficientnet_model.py:147] round_filter input=24 output=32\n",
      "I1106 20:14:38.687315 10732 efficientnet_model.py:147] round_filter input=40 output=48\n",
      "I1106 20:14:38.865357 10732 efficientnet_model.py:147] round_filter input=40 output=48\n",
      "I1106 20:14:38.865357 10732 efficientnet_model.py:147] round_filter input=80 output=96\n",
      "I1106 20:14:39.153350 10732 efficientnet_model.py:147] round_filter input=80 output=96\n",
      "I1106 20:14:39.154349 10732 efficientnet_model.py:147] round_filter input=112 output=136\n",
      "I1106 20:14:39.449316 10732 efficientnet_model.py:147] round_filter input=112 output=136\n",
      "I1106 20:14:39.449316 10732 efficientnet_model.py:147] round_filter input=192 output=232\n",
      "I1106 20:14:39.807316 10732 efficientnet_model.py:147] round_filter input=192 output=232\n",
      "I1106 20:14:39.807316 10732 efficientnet_model.py:147] round_filter input=320 output=384\n",
      "I1106 20:14:39.929316 10732 efficientnet_model.py:147] round_filter input=1280 output=1536\n",
      "I1106 20:14:39.951316 10732 efficientnet_model.py:458] Building model efficientnet with params ModelConfig(width_coefficient=1.2, depth_coefficient=1.4, resolution=300, dropout_rate=0.3, blocks=(BlockConfig(input_filters=32, output_filters=16, kernel_size=3, num_repeat=1, expand_ratio=1, strides=(1, 1), se_ratio=0.25, id_skip=True, fused_conv=False, conv_type='depthwise'), BlockConfig(input_filters=16, output_filters=24, kernel_size=3, num_repeat=2, expand_ratio=6, strides=(2, 2), se_ratio=0.25, id_skip=True, fused_conv=False, conv_type='depthwise'), BlockConfig(input_filters=24, output_filters=40, kernel_size=5, num_repeat=2, expand_ratio=6, strides=(2, 2), se_ratio=0.25, id_skip=True, fused_conv=False, conv_type='depthwise'), BlockConfig(input_filters=40, output_filters=80, kernel_size=3, num_repeat=3, expand_ratio=6, strides=(2, 2), se_ratio=0.25, id_skip=True, fused_conv=False, conv_type='depthwise'), BlockConfig(input_filters=80, output_filters=112, kernel_size=5, num_repeat=3, expand_ratio=6, strides=(1, 1), se_ratio=0.25, id_skip=True, fused_conv=False, conv_type='depthwise'), BlockConfig(input_filters=112, output_filters=192, kernel_size=5, num_repeat=4, expand_ratio=6, strides=(2, 2), se_ratio=0.25, id_skip=True, fused_conv=False, conv_type='depthwise'), BlockConfig(input_filters=192, output_filters=320, kernel_size=3, num_repeat=1, expand_ratio=6, strides=(1, 1), se_ratio=0.25, id_skip=True, fused_conv=False, conv_type='depthwise')), stem_base_filters=32, top_base_filters=1280, activation='simple_swish', batch_norm='default', bn_momentum=0.99, bn_epsilon=0.001, weight_decay=5e-06, drop_connect_rate=0.2, depth_divisor=8, min_depth=None, use_se=True, input_channels=3, num_classes=1000, model_name='efficientnet', rescale_input=False, data_format='channels_last', dtype='float32')\n",
      "I1106 20:14:39.998316 10732 ssd_efficientnet_bifpn_feature_extractor.py:142] EfficientDet EfficientNet backbone version: efficientnet-b4\n",
      "I1106 20:14:39.998316 10732 ssd_efficientnet_bifpn_feature_extractor.py:144] EfficientDet BiFPN num filters: 224\n",
      "I1106 20:14:39.998316 10732 ssd_efficientnet_bifpn_feature_extractor.py:145] EfficientDet BiFPN num iterations: 7\n",
      "I1106 20:14:39.999316 10732 efficientnet_model.py:147] round_filter input=32 output=48\n",
      "I1106 20:14:40.014316 10732 efficientnet_model.py:147] round_filter input=32 output=48\n",
      "I1106 20:14:40.015316 10732 efficientnet_model.py:147] round_filter input=16 output=24\n",
      "I1106 20:14:40.304316 10732 efficientnet_model.py:147] round_filter input=16 output=24\n",
      "I1106 20:14:40.304316 10732 efficientnet_model.py:147] round_filter input=24 output=32\n",
      "I1106 20:14:40.540316 10732 efficientnet_model.py:147] round_filter input=24 output=32\n",
      "I1106 20:14:40.540316 10732 efficientnet_model.py:147] round_filter input=40 output=56\n",
      "I1106 20:14:40.778316 10732 efficientnet_model.py:147] round_filter input=40 output=56\n",
      "I1106 20:14:40.778316 10732 efficientnet_model.py:147] round_filter input=80 output=112\n",
      "I1106 20:14:41.142351 10732 efficientnet_model.py:147] round_filter input=80 output=112\n",
      "I1106 20:14:41.142351 10732 efficientnet_model.py:147] round_filter input=112 output=160\n",
      "I1106 20:14:41.500347 10732 efficientnet_model.py:147] round_filter input=112 output=160\n",
      "I1106 20:14:41.500347 10732 efficientnet_model.py:147] round_filter input=192 output=272\n",
      "I1106 20:14:41.974316 10732 efficientnet_model.py:147] round_filter input=192 output=272\n",
      "I1106 20:14:41.974316 10732 efficientnet_model.py:147] round_filter input=320 output=448\n",
      "I1106 20:14:42.093316 10732 efficientnet_model.py:147] round_filter input=1280 output=1792\n",
      "I1106 20:14:42.115316 10732 efficientnet_model.py:458] Building model efficientnet with params ModelConfig(width_coefficient=1.4, depth_coefficient=1.8, resolution=380, dropout_rate=0.4, blocks=(BlockConfig(input_filters=32, output_filters=16, kernel_size=3, num_repeat=1, expand_ratio=1, strides=(1, 1), se_ratio=0.25, id_skip=True, fused_conv=False, conv_type='depthwise'), BlockConfig(input_filters=16, output_filters=24, kernel_size=3, num_repeat=2, expand_ratio=6, strides=(2, 2), se_ratio=0.25, id_skip=True, fused_conv=False, conv_type='depthwise'), BlockConfig(input_filters=24, output_filters=40, kernel_size=5, num_repeat=2, expand_ratio=6, strides=(2, 2), se_ratio=0.25, id_skip=True, fused_conv=False, conv_type='depthwise'), BlockConfig(input_filters=40, output_filters=80, kernel_size=3, num_repeat=3, expand_ratio=6, strides=(2, 2), se_ratio=0.25, id_skip=True, fused_conv=False, conv_type='depthwise'), BlockConfig(input_filters=80, output_filters=112, kernel_size=5, num_repeat=3, expand_ratio=6, strides=(1, 1), se_ratio=0.25, id_skip=True, fused_conv=False, conv_type='depthwise'), BlockConfig(input_filters=112, output_filters=192, kernel_size=5, num_repeat=4, expand_ratio=6, strides=(2, 2), se_ratio=0.25, id_skip=True, fused_conv=False, conv_type='depthwise'), BlockConfig(input_filters=192, output_filters=320, kernel_size=3, num_repeat=1, expand_ratio=6, strides=(1, 1), se_ratio=0.25, id_skip=True, fused_conv=False, conv_type='depthwise')), stem_base_filters=32, top_base_filters=1280, activation='simple_swish', batch_norm='default', bn_momentum=0.99, bn_epsilon=0.001, weight_decay=5e-06, drop_connect_rate=0.2, depth_divisor=8, min_depth=None, use_se=True, input_channels=3, num_classes=1000, model_name='efficientnet', rescale_input=False, data_format='channels_last', dtype='float32')\n",
      "I1106 20:14:42.168316 10732 ssd_efficientnet_bifpn_feature_extractor.py:142] EfficientDet EfficientNet backbone version: efficientnet-b5\n",
      "I1106 20:14:42.168316 10732 ssd_efficientnet_bifpn_feature_extractor.py:144] EfficientDet BiFPN num filters: 288\n",
      "I1106 20:14:42.168316 10732 ssd_efficientnet_bifpn_feature_extractor.py:145] EfficientDet BiFPN num iterations: 7\n",
      "I1106 20:14:42.169316 10732 efficientnet_model.py:147] round_filter input=32 output=48\n",
      "I1106 20:14:42.181316 10732 efficientnet_model.py:147] round_filter input=32 output=48\n",
      "I1106 20:14:42.181316 10732 efficientnet_model.py:147] round_filter input=16 output=24\n",
      "I1106 20:14:42.324316 10732 efficientnet_model.py:147] round_filter input=16 output=24\n",
      "I1106 20:14:42.324316 10732 efficientnet_model.py:147] round_filter input=24 output=40\n",
      "I1106 20:14:42.621315 10732 efficientnet_model.py:147] round_filter input=24 output=40\n",
      "I1106 20:14:42.621315 10732 efficientnet_model.py:147] round_filter input=40 output=64\n",
      "I1106 20:14:42.914316 10732 efficientnet_model.py:147] round_filter input=40 output=64\n",
      "I1106 20:14:42.914316 10732 efficientnet_model.py:147] round_filter input=80 output=128\n",
      "I1106 20:14:43.340316 10732 efficientnet_model.py:147] round_filter input=80 output=128\n",
      "I1106 20:14:43.340316 10732 efficientnet_model.py:147] round_filter input=112 output=176\n",
      "I1106 20:14:43.766316 10732 efficientnet_model.py:147] round_filter input=112 output=176\n",
      "I1106 20:14:43.766316 10732 efficientnet_model.py:147] round_filter input=192 output=304\n",
      "I1106 20:14:44.463349 10732 efficientnet_model.py:147] round_filter input=192 output=304\n",
      "I1106 20:14:44.463349 10732 efficientnet_model.py:147] round_filter input=320 output=512\n",
      "I1106 20:14:44.640316 10732 efficientnet_model.py:147] round_filter input=1280 output=2048\n",
      "I1106 20:14:44.662348 10732 efficientnet_model.py:458] Building model efficientnet with params ModelConfig(width_coefficient=1.6, depth_coefficient=2.2, resolution=456, dropout_rate=0.4, blocks=(BlockConfig(input_filters=32, output_filters=16, kernel_size=3, num_repeat=1, expand_ratio=1, strides=(1, 1), se_ratio=0.25, id_skip=True, fused_conv=False, conv_type='depthwise'), BlockConfig(input_filters=16, output_filters=24, kernel_size=3, num_repeat=2, expand_ratio=6, strides=(2, 2), se_ratio=0.25, id_skip=True, fused_conv=False, conv_type='depthwise'), BlockConfig(input_filters=24, output_filters=40, kernel_size=5, num_repeat=2, expand_ratio=6, strides=(2, 2), se_ratio=0.25, id_skip=True, fused_conv=False, conv_type='depthwise'), BlockConfig(input_filters=40, output_filters=80, kernel_size=3, num_repeat=3, expand_ratio=6, strides=(2, 2), se_ratio=0.25, id_skip=True, fused_conv=False, conv_type='depthwise'), BlockConfig(input_filters=80, output_filters=112, kernel_size=5, num_repeat=3, expand_ratio=6, strides=(1, 1), se_ratio=0.25, id_skip=True, fused_conv=False, conv_type='depthwise'), BlockConfig(input_filters=112, output_filters=192, kernel_size=5, num_repeat=4, expand_ratio=6, strides=(2, 2), se_ratio=0.25, id_skip=True, fused_conv=False, conv_type='depthwise'), BlockConfig(input_filters=192, output_filters=320, kernel_size=3, num_repeat=1, expand_ratio=6, strides=(1, 1), se_ratio=0.25, id_skip=True, fused_conv=False, conv_type='depthwise')), stem_base_filters=32, top_base_filters=1280, activation='simple_swish', batch_norm='default', bn_momentum=0.99, bn_epsilon=0.001, weight_decay=5e-06, drop_connect_rate=0.2, depth_divisor=8, min_depth=None, use_se=True, input_channels=3, num_classes=1000, model_name='efficientnet', rescale_input=False, data_format='channels_last', dtype='float32')\n",
      "I1106 20:14:44.719316 10732 ssd_efficientnet_bifpn_feature_extractor.py:142] EfficientDet EfficientNet backbone version: efficientnet-b6\n",
      "I1106 20:14:44.719316 10732 ssd_efficientnet_bifpn_feature_extractor.py:144] EfficientDet BiFPN num filters: 384\n",
      "I1106 20:14:44.719316 10732 ssd_efficientnet_bifpn_feature_extractor.py:145] EfficientDet BiFPN num iterations: 8\n",
      "I1106 20:14:44.720316 10732 efficientnet_model.py:147] round_filter input=32 output=56\n",
      "I1106 20:14:44.732354 10732 efficientnet_model.py:147] round_filter input=32 output=56\n",
      "I1106 20:14:44.732354 10732 efficientnet_model.py:147] round_filter input=16 output=32\n",
      "I1106 20:14:44.868350 10732 efficientnet_model.py:147] round_filter input=16 output=32\n",
      "I1106 20:14:44.868350 10732 efficientnet_model.py:147] round_filter input=24 output=40\n",
      "I1106 20:14:45.208347 10732 efficientnet_model.py:147] round_filter input=24 output=40\n",
      "I1106 20:14:45.208347 10732 efficientnet_model.py:147] round_filter input=40 output=72\n",
      "I1106 20:14:45.570316 10732 efficientnet_model.py:147] round_filter input=40 output=72\n",
      "I1106 20:14:45.570316 10732 efficientnet_model.py:147] round_filter input=80 output=144\n",
      "I1106 20:14:46.053350 10732 efficientnet_model.py:147] round_filter input=80 output=144\n",
      "I1106 20:14:46.053350 10732 efficientnet_model.py:147] round_filter input=112 output=200\n",
      "I1106 20:14:46.540353 10732 efficientnet_model.py:147] round_filter input=112 output=200\n",
      "I1106 20:14:46.540353 10732 efficientnet_model.py:147] round_filter input=192 output=344\n",
      "I1106 20:14:47.193315 10732 efficientnet_model.py:147] round_filter input=192 output=344\n",
      "I1106 20:14:47.193315 10732 efficientnet_model.py:147] round_filter input=320 output=576\n",
      "I1106 20:14:47.366349 10732 efficientnet_model.py:147] round_filter input=1280 output=2304\n",
      "I1106 20:14:47.386351 10732 efficientnet_model.py:458] Building model efficientnet with params ModelConfig(width_coefficient=1.8, depth_coefficient=2.6, resolution=528, dropout_rate=0.5, blocks=(BlockConfig(input_filters=32, output_filters=16, kernel_size=3, num_repeat=1, expand_ratio=1, strides=(1, 1), se_ratio=0.25, id_skip=True, fused_conv=False, conv_type='depthwise'), BlockConfig(input_filters=16, output_filters=24, kernel_size=3, num_repeat=2, expand_ratio=6, strides=(2, 2), se_ratio=0.25, id_skip=True, fused_conv=False, conv_type='depthwise'), BlockConfig(input_filters=24, output_filters=40, kernel_size=5, num_repeat=2, expand_ratio=6, strides=(2, 2), se_ratio=0.25, id_skip=True, fused_conv=False, conv_type='depthwise'), BlockConfig(input_filters=40, output_filters=80, kernel_size=3, num_repeat=3, expand_ratio=6, strides=(2, 2), se_ratio=0.25, id_skip=True, fused_conv=False, conv_type='depthwise'), BlockConfig(input_filters=80, output_filters=112, kernel_size=5, num_repeat=3, expand_ratio=6, strides=(1, 1), se_ratio=0.25, id_skip=True, fused_conv=False, conv_type='depthwise'), BlockConfig(input_filters=112, output_filters=192, kernel_size=5, num_repeat=4, expand_ratio=6, strides=(2, 2), se_ratio=0.25, id_skip=True, fused_conv=False, conv_type='depthwise'), BlockConfig(input_filters=192, output_filters=320, kernel_size=3, num_repeat=1, expand_ratio=6, strides=(1, 1), se_ratio=0.25, id_skip=True, fused_conv=False, conv_type='depthwise')), stem_base_filters=32, top_base_filters=1280, activation='simple_swish', batch_norm='default', bn_momentum=0.99, bn_epsilon=0.001, weight_decay=5e-06, drop_connect_rate=0.2, depth_divisor=8, min_depth=None, use_se=True, input_channels=3, num_classes=1000, model_name='efficientnet', rescale_input=False, data_format='channels_last', dtype='float32')\n",
      "I1106 20:14:47.453316 10732 ssd_efficientnet_bifpn_feature_extractor.py:142] EfficientDet EfficientNet backbone version: efficientnet-b7\n",
      "I1106 20:14:47.453316 10732 ssd_efficientnet_bifpn_feature_extractor.py:144] EfficientDet BiFPN num filters: 384\n",
      "I1106 20:14:47.453316 10732 ssd_efficientnet_bifpn_feature_extractor.py:145] EfficientDet BiFPN num iterations: 8\n",
      "I1106 20:14:47.454316 10732 efficientnet_model.py:147] round_filter input=32 output=64\n",
      "I1106 20:14:47.467316 10732 efficientnet_model.py:147] round_filter input=32 output=64\n",
      "I1106 20:14:47.467316 10732 efficientnet_model.py:147] round_filter input=16 output=32\n",
      "I1106 20:14:47.883349 10732 efficientnet_model.py:147] round_filter input=16 output=32\n",
      "I1106 20:14:47.883349 10732 efficientnet_model.py:147] round_filter input=24 output=48\n",
      "I1106 20:14:48.294350 10732 efficientnet_model.py:147] round_filter input=24 output=48\n",
      "I1106 20:14:48.294350 10732 efficientnet_model.py:147] round_filter input=40 output=80\n",
      "I1106 20:14:48.705349 10732 efficientnet_model.py:147] round_filter input=40 output=80\n",
      "I1106 20:14:48.705349 10732 efficientnet_model.py:147] round_filter input=80 output=160\n",
      "I1106 20:14:49.316351 10732 efficientnet_model.py:147] round_filter input=80 output=160\n",
      "I1106 20:14:49.316351 10732 efficientnet_model.py:147] round_filter input=112 output=224\n",
      "I1106 20:14:49.953317 10732 efficientnet_model.py:147] round_filter input=112 output=224\n",
      "I1106 20:14:49.953317 10732 efficientnet_model.py:147] round_filter input=192 output=384\n",
      "I1106 20:14:50.751349 10732 efficientnet_model.py:147] round_filter input=192 output=384\n",
      "I1106 20:14:50.751349 10732 efficientnet_model.py:147] round_filter input=320 output=640\n",
      "I1106 20:14:50.995355 10732 efficientnet_model.py:147] round_filter input=1280 output=2560\n",
      "I1106 20:14:51.020316 10732 efficientnet_model.py:458] Building model efficientnet with params ModelConfig(width_coefficient=2.0, depth_coefficient=3.1, resolution=600, dropout_rate=0.5, blocks=(BlockConfig(input_filters=32, output_filters=16, kernel_size=3, num_repeat=1, expand_ratio=1, strides=(1, 1), se_ratio=0.25, id_skip=True, fused_conv=False, conv_type='depthwise'), BlockConfig(input_filters=16, output_filters=24, kernel_size=3, num_repeat=2, expand_ratio=6, strides=(2, 2), se_ratio=0.25, id_skip=True, fused_conv=False, conv_type='depthwise'), BlockConfig(input_filters=24, output_filters=40, kernel_size=5, num_repeat=2, expand_ratio=6, strides=(2, 2), se_ratio=0.25, id_skip=True, fused_conv=False, conv_type='depthwise'), BlockConfig(input_filters=40, output_filters=80, kernel_size=3, num_repeat=3, expand_ratio=6, strides=(2, 2), se_ratio=0.25, id_skip=True, fused_conv=False, conv_type='depthwise'), BlockConfig(input_filters=80, output_filters=112, kernel_size=5, num_repeat=3, expand_ratio=6, strides=(1, 1), se_ratio=0.25, id_skip=True, fused_conv=False, conv_type='depthwise'), BlockConfig(input_filters=112, output_filters=192, kernel_size=5, num_repeat=4, expand_ratio=6, strides=(2, 2), se_ratio=0.25, id_skip=True, fused_conv=False, conv_type='depthwise'), BlockConfig(input_filters=192, output_filters=320, kernel_size=3, num_repeat=1, expand_ratio=6, strides=(1, 1), se_ratio=0.25, id_skip=True, fused_conv=False, conv_type='depthwise')), stem_base_filters=32, top_base_filters=1280, activation='simple_swish', batch_norm='default', bn_momentum=0.99, bn_epsilon=0.001, weight_decay=5e-06, drop_connect_rate=0.2, depth_divisor=8, min_depth=None, use_se=True, input_channels=3, num_classes=1000, model_name='efficientnet', rescale_input=False, data_format='channels_last', dtype='float32')\n",
      "INFO:tensorflow:time(__main__.ModelBuilderTF2Test.test_create_ssd_models_from_config): 16.9s\n",
      "I1106 20:14:51.104316 10732 test_util.py:2188] time(__main__.ModelBuilderTF2Test.test_create_ssd_models_from_config): 16.9s\n",
      "[       OK ] ModelBuilderTF2Test.test_create_ssd_models_from_config\n",
      "[ RUN      ] ModelBuilderTF2Test.test_invalid_faster_rcnn_batchnorm_update\n",
      "INFO:tensorflow:time(__main__.ModelBuilderTF2Test.test_invalid_faster_rcnn_batchnorm_update): 0.0s\n",
      "I1106 20:14:51.108316 10732 test_util.py:2188] time(__main__.ModelBuilderTF2Test.test_invalid_faster_rcnn_batchnorm_update): 0.0s\n",
      "[       OK ] ModelBuilderTF2Test.test_invalid_faster_rcnn_batchnorm_update\n",
      "[ RUN      ] ModelBuilderTF2Test.test_invalid_first_stage_nms_iou_threshold\n",
      "INFO:tensorflow:time(__main__.ModelBuilderTF2Test.test_invalid_first_stage_nms_iou_threshold): 0.0s\n",
      "I1106 20:14:51.109316 10732 test_util.py:2188] time(__main__.ModelBuilderTF2Test.test_invalid_first_stage_nms_iou_threshold): 0.0s\n",
      "[       OK ] ModelBuilderTF2Test.test_invalid_first_stage_nms_iou_threshold\n",
      "[ RUN      ] ModelBuilderTF2Test.test_invalid_model_config_proto\n",
      "INFO:tensorflow:time(__main__.ModelBuilderTF2Test.test_invalid_model_config_proto): 0.0s\n",
      "I1106 20:14:51.109316 10732 test_util.py:2188] time(__main__.ModelBuilderTF2Test.test_invalid_model_config_proto): 0.0s\n",
      "[       OK ] ModelBuilderTF2Test.test_invalid_model_config_proto\n",
      "[ RUN      ] ModelBuilderTF2Test.test_invalid_second_stage_batch_size\n",
      "INFO:tensorflow:time(__main__.ModelBuilderTF2Test.test_invalid_second_stage_batch_size): 0.0s\n",
      "I1106 20:14:51.111316 10732 test_util.py:2188] time(__main__.ModelBuilderTF2Test.test_invalid_second_stage_batch_size): 0.0s\n",
      "[       OK ] ModelBuilderTF2Test.test_invalid_second_stage_batch_size\n",
      "[ RUN      ] ModelBuilderTF2Test.test_session\n",
      "[  SKIPPED ] ModelBuilderTF2Test.test_session\n",
      "[ RUN      ] ModelBuilderTF2Test.test_unknown_faster_rcnn_feature_extractor\n",
      "INFO:tensorflow:time(__main__.ModelBuilderTF2Test.test_unknown_faster_rcnn_feature_extractor): 0.0s\n",
      "I1106 20:14:51.112316 10732 test_util.py:2188] time(__main__.ModelBuilderTF2Test.test_unknown_faster_rcnn_feature_extractor): 0.0s\n",
      "[       OK ] ModelBuilderTF2Test.test_unknown_faster_rcnn_feature_extractor\n",
      "[ RUN      ] ModelBuilderTF2Test.test_unknown_meta_architecture\n",
      "INFO:tensorflow:time(__main__.ModelBuilderTF2Test.test_unknown_meta_architecture): 0.0s\n",
      "I1106 20:14:51.112316 10732 test_util.py:2188] time(__main__.ModelBuilderTF2Test.test_unknown_meta_architecture): 0.0s\n",
      "[       OK ] ModelBuilderTF2Test.test_unknown_meta_architecture\n",
      "[ RUN      ] ModelBuilderTF2Test.test_unknown_ssd_feature_extractor\n",
      "INFO:tensorflow:time(__main__.ModelBuilderTF2Test.test_unknown_ssd_feature_extractor): 0.0s\n",
      "I1106 20:14:51.113316 10732 test_util.py:2188] time(__main__.ModelBuilderTF2Test.test_unknown_ssd_feature_extractor): 0.0s\n",
      "[       OK ] ModelBuilderTF2Test.test_unknown_ssd_feature_extractor\n",
      "----------------------------------------------------------------------\n",
      "Ran 24 tests in 21.833s\n",
      "\n",
      "OK (skipped=1)\n"
     ]
    }
   ],
   "source": [
    "VERIFICATION_SCRIPT = os.path.join(paths['APIMODEL_PATH'], 'research', 'object_detection', 'builders', 'model_builder_tf2_test.py')\n",
    "# Verify Installation\n",
    "!python {VERIFICATION_SCRIPT}"
   ]
  },
  {
   "cell_type": "code",
   "execution_count": 3,
   "id": "8768ae2f",
   "metadata": {},
   "outputs": [],
   "source": [
    "# Test import object_detection\n",
    "import object_detection"
   ]
  },
  {
   "cell_type": "code",
   "execution_count": 11,
   "id": "3f640358",
   "metadata": {
    "scrolled": true
   },
   "outputs": [
    {
     "name": "stdout",
     "output_type": "stream",
     "text": [
      "100% [........................................................................] 20518283 / 20518283        1 file(s) moved.\n"
     ]
    },
    {
     "name": "stderr",
     "output_type": "stream",
     "text": [
      "x ssd_mobilenet_v2_fpnlite_640x640_coco17_tpu-8/\n",
      "x ssd_mobilenet_v2_fpnlite_640x640_coco17_tpu-8/checkpoint/\n",
      "x ssd_mobilenet_v2_fpnlite_640x640_coco17_tpu-8/checkpoint/ckpt-0.data-00000-of-00001\n",
      "x ssd_mobilenet_v2_fpnlite_640x640_coco17_tpu-8/checkpoint/checkpoint\n",
      "x ssd_mobilenet_v2_fpnlite_640x640_coco17_tpu-8/checkpoint/ckpt-0.index\n",
      "x ssd_mobilenet_v2_fpnlite_640x640_coco17_tpu-8/pipeline.config\n",
      "x ssd_mobilenet_v2_fpnlite_640x640_coco17_tpu-8/saved_model/\n",
      "x ssd_mobilenet_v2_fpnlite_640x640_coco17_tpu-8/saved_model/saved_model.pb\n",
      "x ssd_mobilenet_v2_fpnlite_640x640_coco17_tpu-8/saved_model/variables/\n",
      "x ssd_mobilenet_v2_fpnlite_640x640_coco17_tpu-8/saved_model/variables/variables.data-00000-of-00001\n",
      "x ssd_mobilenet_v2_fpnlite_640x640_coco17_tpu-8/saved_model/variables/variables.index\n"
     ]
    }
   ],
   "source": [
    "wget.download(PRETRAINED_MODEL_URL)\n",
    "if os.name =='posix':\n",
    "    !mv {PRETRAINED_MODEL_NAME+'.tar.gz'} {paths['PRETRAINED_MODEL_PATH']}\n",
    "    !cd {paths['PRETRAINED_MODEL_PATH']} && tar -zxvf {PRETRAINED_MODEL_NAME+'.tar.gz'}\n",
    "if os.name == 'nt': \n",
    "    !move {PRETRAINED_MODEL_NAME+'.tar.gz'} {paths['PRETRAINED_MODEL_PATH']}\n",
    "    !cd {paths['PRETRAINED_MODEL_PATH']} && tar -zxvf {PRETRAINED_MODEL_NAME+'.tar.gz'}"
   ]
  },
  {
   "cell_type": "markdown",
   "id": "5b754b8a",
   "metadata": {},
   "source": [
    "## Create Label Map"
   ]
  },
  {
   "cell_type": "code",
   "execution_count": 90,
   "id": "c5f8ae15",
   "metadata": {},
   "outputs": [
    {
     "name": "stdout",
     "output_type": "stream",
     "text": [
      "        1 file(s) copied.\n"
     ]
    }
   ],
   "source": [
    "# This doesn't help when detect. Still only images in training set can be detected. Previous trained (pre-train model) objects will be\n",
    "# ignored since there are not in the checkpoints\n",
    "\n",
    "original_map = os.path.join(paths['APIMODEL_PATH'], 'research', 'object_detection', 'data','mscoco_label_map.pbtxt')\n",
    "if os.name =='posix':\n",
    "    !cp {original_map} {files['LABELMAP']}\n",
    "if os.name == 'nt':\n",
    "    !copy {original_map} {files['LABELMAP']}\n",
    "\n",
    "labels = [{'name':'clearbackpack', 'id':91, 'display_name':'clearbackpack'}, {'name':'calculator', 'id':92,'display_name':'calculator'}]\n",
    "\n",
    "with open(files['LABELMAP'], 'a') as f:\n",
    "    for label in labels:\n",
    "        f.write('item { \\n')\n",
    "        f.write('\\tname:\\\"{}\\\"\\n'.format(label['name']))\n",
    "        f.write('\\tid:{}\\n'.format(label['id']))\n",
    "        f.write('\\tdisplay_name:\\\"{}\\\"\\n'.format(label['display_name']))\n",
    "        f.write('}\\n')"
   ]
  },
  {
   "cell_type": "markdown",
   "id": "cdaefbeb",
   "metadata": {},
   "source": [
    "## Create TF records"
   ]
  },
  {
   "cell_type": "code",
   "execution_count": 21,
   "id": "8a59c313",
   "metadata": {},
   "outputs": [],
   "source": [
    "if not os.path.exists(files['TF_RECORD_SCRIPT']):\n",
    "    !git clone https://github.com/nicknochnack/GenerateTFRecord {paths['SCRIPTS_PATH']}"
   ]
  },
  {
   "cell_type": "code",
   "execution_count": 22,
   "id": "7492b2fd",
   "metadata": {},
   "outputs": [
    {
     "name": "stdout",
     "output_type": "stream",
     "text": [
      "Successfully created the TFRecord file: Tensorflow\\workspace\\annotations\\extra-objects\\train.record\n",
      "Successfully created the TFRecord file: Tensorflow\\workspace\\annotations\\extra-objects\\test.record\n"
     ]
    }
   ],
   "source": [
    "!python {files['TF_RECORD_SCRIPT']} -x {os.path.join(paths['IMAGE_PATH'], 'train')} -l {files['LABELMAP']} -o {os.path.join(paths['ANNOTATION_PATH'], 'train.record')} \n",
    "!python {files['TF_RECORD_SCRIPT']} -x {os.path.join(paths['IMAGE_PATH'], 'test')} -l {files['LABELMAP']} -o {os.path.join(paths['ANNOTATION_PATH'], 'test.record')} "
   ]
  },
  {
   "cell_type": "markdown",
   "id": "92133af7",
   "metadata": {},
   "source": [
    "##  Copy Model Config to Training Folder"
   ]
  },
  {
   "cell_type": "code",
   "execution_count": 67,
   "id": "2e69dec9",
   "metadata": {},
   "outputs": [
    {
     "name": "stdout",
     "output_type": "stream",
     "text": [
      "        1 file(s) copied.\n"
     ]
    }
   ],
   "source": [
    "if os.name =='posix':\n",
    "    !cp {os.path.join(paths['PRETRAINED_MODEL_PATH'], PRETRAINED_MODEL_NAME, 'pipeline.config')} {os.path.join(paths['CHECKPOINT_PATH'])}\n",
    "if os.name == 'nt':\n",
    "    !copy {os.path.join(paths['PRETRAINED_MODEL_PATH'], PRETRAINED_MODEL_NAME, 'pipeline.config')} {os.path.join(paths['CHECKPOINT_PATH'])}"
   ]
  },
  {
   "cell_type": "markdown",
   "id": "685b076a",
   "metadata": {},
   "source": [
    "## Update Config For Transfer Learning"
   ]
  },
  {
   "cell_type": "code",
   "execution_count": 68,
   "id": "66d8bde9",
   "metadata": {},
   "outputs": [],
   "source": [
    "import tensorflow as tf\n",
    "from object_detection.utils import config_util\n",
    "from object_detection.protos import pipeline_pb2\n",
    "from google.protobuf import text_format"
   ]
  },
  {
   "cell_type": "code",
   "execution_count": 69,
   "id": "2b1851ed",
   "metadata": {},
   "outputs": [],
   "source": [
    "config = config_util.get_configs_from_pipeline_file(files['PIPELINE_CONFIG'])"
   ]
  },
  {
   "cell_type": "code",
   "execution_count": 70,
   "id": "aa19e678",
   "metadata": {},
   "outputs": [],
   "source": [
    "pipeline_config = pipeline_pb2.TrainEvalPipelineConfig()\n",
    "with tf.io.gfile.GFile(files['PIPELINE_CONFIG'], \"r\") as f:                                                                                                                                                                                                                     \n",
    "    proto_str = f.read()                                                                                                                                                                                                                                          \n",
    "    text_format.Merge(proto_str, pipeline_config)  "
   ]
  },
  {
   "cell_type": "code",
   "execution_count": 71,
   "id": "1c9d1fb0",
   "metadata": {},
   "outputs": [],
   "source": [
    "#pipeline_config.model.ssd.num_classes = len(labels)\n",
    "pipeline_config.model.ssd.num_classes = 92\n",
    "pipeline_config.train_config.batch_size = 2\n",
    "pipeline_config.train_config.fine_tune_checkpoint = os.path.join(paths['PRETRAINED_MODEL_PATH'], PRETRAINED_MODEL_NAME, 'checkpoint', 'ckpt-0')\n",
    "pipeline_config.train_config.fine_tune_checkpoint_type = \"detection\"\n",
    "pipeline_config.train_input_reader.label_map_path= files['LABELMAP']\n",
    "pipeline_config.train_input_reader.tf_record_input_reader.input_path[:] = [os.path.join(paths['ANNOTATION_PATH'], 'train.record')]\n",
    "pipeline_config.eval_input_reader[0].label_map_path = files['LABELMAP']\n",
    "pipeline_config.eval_input_reader[0].tf_record_input_reader.input_path[:] = [os.path.join(paths['ANNOTATION_PATH'], 'test.record')]"
   ]
  },
  {
   "cell_type": "code",
   "execution_count": 72,
   "id": "c97658df",
   "metadata": {},
   "outputs": [
    {
     "name": "stdout",
     "output_type": "stream",
     "text": [
      "Tensorflow\\workspace\\models\\extra_ah_objects_ssd_mobnet\\pipeline.config\n"
     ]
    }
   ],
   "source": [
    "config_text = text_format.MessageToString(pipeline_config)                                                                                                                                                                                                        \n",
    "with tf.io.gfile.GFile(files['PIPELINE_CONFIG'], \"wb\") as f:                                                                                                                                                                                                                     \n",
    "    f.write(config_text)   \n",
    "print(files['PIPELINE_CONFIG'])"
   ]
  },
  {
   "cell_type": "code",
   "execution_count": 73,
   "id": "8f551bc5",
   "metadata": {
    "scrolled": false
   },
   "outputs": [
    {
     "data": {
      "text/plain": [
       "{'model': ssd {\n",
       "   num_classes: 92\n",
       "   image_resizer {\n",
       "     fixed_shape_resizer {\n",
       "       height: 640\n",
       "       width: 640\n",
       "     }\n",
       "   }\n",
       "   feature_extractor {\n",
       "     type: \"ssd_mobilenet_v2_fpn_keras\"\n",
       "     depth_multiplier: 1.0\n",
       "     min_depth: 16\n",
       "     conv_hyperparams {\n",
       "       regularizer {\n",
       "         l2_regularizer {\n",
       "           weight: 4e-05\n",
       "         }\n",
       "       }\n",
       "       initializer {\n",
       "         random_normal_initializer {\n",
       "           mean: 0.0\n",
       "           stddev: 0.01\n",
       "         }\n",
       "       }\n",
       "       activation: RELU_6\n",
       "       batch_norm {\n",
       "         decay: 0.997\n",
       "         scale: true\n",
       "         epsilon: 0.001\n",
       "       }\n",
       "     }\n",
       "     use_depthwise: true\n",
       "     override_base_feature_extractor_hyperparams: true\n",
       "     fpn {\n",
       "       min_level: 3\n",
       "       max_level: 7\n",
       "       additional_layer_depth: 128\n",
       "     }\n",
       "   }\n",
       "   box_coder {\n",
       "     faster_rcnn_box_coder {\n",
       "       y_scale: 10.0\n",
       "       x_scale: 10.0\n",
       "       height_scale: 5.0\n",
       "       width_scale: 5.0\n",
       "     }\n",
       "   }\n",
       "   matcher {\n",
       "     argmax_matcher {\n",
       "       matched_threshold: 0.5\n",
       "       unmatched_threshold: 0.5\n",
       "       ignore_thresholds: false\n",
       "       negatives_lower_than_unmatched: true\n",
       "       force_match_for_each_row: true\n",
       "       use_matmul_gather: true\n",
       "     }\n",
       "   }\n",
       "   similarity_calculator {\n",
       "     iou_similarity {\n",
       "     }\n",
       "   }\n",
       "   box_predictor {\n",
       "     weight_shared_convolutional_box_predictor {\n",
       "       conv_hyperparams {\n",
       "         regularizer {\n",
       "           l2_regularizer {\n",
       "             weight: 4e-05\n",
       "           }\n",
       "         }\n",
       "         initializer {\n",
       "           random_normal_initializer {\n",
       "             mean: 0.0\n",
       "             stddev: 0.01\n",
       "           }\n",
       "         }\n",
       "         activation: RELU_6\n",
       "         batch_norm {\n",
       "           decay: 0.997\n",
       "           scale: true\n",
       "           epsilon: 0.001\n",
       "         }\n",
       "       }\n",
       "       depth: 128\n",
       "       num_layers_before_predictor: 4\n",
       "       kernel_size: 3\n",
       "       class_prediction_bias_init: -4.6\n",
       "       share_prediction_tower: true\n",
       "       use_depthwise: true\n",
       "     }\n",
       "   }\n",
       "   anchor_generator {\n",
       "     multiscale_anchor_generator {\n",
       "       min_level: 3\n",
       "       max_level: 7\n",
       "       anchor_scale: 4.0\n",
       "       aspect_ratios: 1.0\n",
       "       aspect_ratios: 2.0\n",
       "       aspect_ratios: 0.5\n",
       "       scales_per_octave: 2\n",
       "     }\n",
       "   }\n",
       "   post_processing {\n",
       "     batch_non_max_suppression {\n",
       "       score_threshold: 1e-08\n",
       "       iou_threshold: 0.6\n",
       "       max_detections_per_class: 100\n",
       "       max_total_detections: 100\n",
       "       use_static_shapes: false\n",
       "     }\n",
       "     score_converter: SIGMOID\n",
       "   }\n",
       "   normalize_loss_by_num_matches: true\n",
       "   loss {\n",
       "     localization_loss {\n",
       "       weighted_smooth_l1 {\n",
       "       }\n",
       "     }\n",
       "     classification_loss {\n",
       "       weighted_sigmoid_focal {\n",
       "         gamma: 2.0\n",
       "         alpha: 0.25\n",
       "       }\n",
       "     }\n",
       "     classification_weight: 1.0\n",
       "     localization_weight: 1.0\n",
       "   }\n",
       "   encode_background_as_zeros: true\n",
       "   normalize_loc_loss_by_codesize: true\n",
       "   inplace_batchnorm_update: true\n",
       "   freeze_batchnorm: false\n",
       " },\n",
       " 'train_config': batch_size: 2\n",
       " data_augmentation_options {\n",
       "   random_horizontal_flip {\n",
       "   }\n",
       " }\n",
       " data_augmentation_options {\n",
       "   random_crop_image {\n",
       "     min_object_covered: 0.0\n",
       "     min_aspect_ratio: 0.75\n",
       "     max_aspect_ratio: 3.0\n",
       "     min_area: 0.75\n",
       "     max_area: 1.0\n",
       "     overlap_thresh: 0.0\n",
       "   }\n",
       " }\n",
       " sync_replicas: true\n",
       " optimizer {\n",
       "   momentum_optimizer {\n",
       "     learning_rate {\n",
       "       cosine_decay_learning_rate {\n",
       "         learning_rate_base: 0.08\n",
       "         total_steps: 50000\n",
       "         warmup_learning_rate: 0.026666\n",
       "         warmup_steps: 1000\n",
       "       }\n",
       "     }\n",
       "     momentum_optimizer_value: 0.9\n",
       "   }\n",
       "   use_moving_average: false\n",
       " }\n",
       " fine_tune_checkpoint: \"Tensorflow\\\\workspace\\\\pre-trained-models\\\\ssd_mobilenet_v2_fpnlite_640x640_coco17_tpu-8\\\\checkpoint\\\\ckpt-0\"\n",
       " num_steps: 50000\n",
       " startup_delay_steps: 0.0\n",
       " replicas_to_aggregate: 8\n",
       " max_number_of_boxes: 100\n",
       " unpad_groundtruth_tensors: false\n",
       " fine_tune_checkpoint_type: \"detection\"\n",
       " fine_tune_checkpoint_version: V2,\n",
       " 'train_input_config': label_map_path: \"Tensorflow\\\\workspace\\\\annotations\\\\extra-objects\\\\extra_ah_objects_label_map.pbtxt\"\n",
       " tf_record_input_reader {\n",
       "   input_path: \"Tensorflow\\\\workspace\\\\annotations\\\\extra-objects\\\\train.record\"\n",
       " },\n",
       " 'eval_config': metrics_set: \"coco_detection_metrics\"\n",
       " use_moving_averages: false,\n",
       " 'eval_input_configs': [label_map_path: \"Tensorflow\\\\workspace\\\\annotations\\\\extra-objects\\\\extra_ah_objects_label_map.pbtxt\"\n",
       " shuffle: false\n",
       " num_epochs: 1\n",
       " tf_record_input_reader {\n",
       "   input_path: \"Tensorflow\\\\workspace\\\\annotations\\\\extra-objects\\\\test.record\"\n",
       " }\n",
       " ],\n",
       " 'eval_input_config': label_map_path: \"Tensorflow\\\\workspace\\\\annotations\\\\extra-objects\\\\extra_ah_objects_label_map.pbtxt\"\n",
       " shuffle: false\n",
       " num_epochs: 1\n",
       " tf_record_input_reader {\n",
       "   input_path: \"Tensorflow\\\\workspace\\\\annotations\\\\extra-objects\\\\test.record\"\n",
       " }}"
      ]
     },
     "execution_count": 73,
     "metadata": {},
     "output_type": "execute_result"
    }
   ],
   "source": [
    "config = config_util.get_configs_from_pipeline_file(files['PIPELINE_CONFIG'])\n",
    "config"
   ]
  },
  {
   "cell_type": "markdown",
   "id": "4c25d162",
   "metadata": {},
   "source": [
    "## Train the model"
   ]
  },
  {
   "cell_type": "code",
   "execution_count": 74,
   "id": "82d886c1",
   "metadata": {},
   "outputs": [],
   "source": [
    "TRAINING_SCRIPT = os.path.join(paths['APIMODEL_PATH'], 'research', 'object_detection', 'model_main_tf2.py')"
   ]
  },
  {
   "cell_type": "code",
   "execution_count": 75,
   "id": "aba1e516",
   "metadata": {},
   "outputs": [],
   "source": [
    "command = \"python {} --model_dir={} --pipeline_config_path={} --num_train_steps=2000\".format(TRAINING_SCRIPT, paths['CHECKPOINT_PATH'],files['PIPELINE_CONFIG'])"
   ]
  },
  {
   "cell_type": "code",
   "execution_count": 76,
   "id": "d14db26d",
   "metadata": {},
   "outputs": [
    {
     "name": "stdout",
     "output_type": "stream",
     "text": [
      "python Tensorflow\\models\\research\\object_detection\\model_main_tf2.py --model_dir=Tensorflow\\workspace\\models\\extra_ah_objects_ssd_mobnet --pipeline_config_path=Tensorflow\\workspace\\models\\extra_ah_objects_ssd_mobnet\\pipeline.config --num_train_steps=2000\n"
     ]
    }
   ],
   "source": [
    "print(command)"
   ]
  },
  {
   "cell_type": "code",
   "execution_count": null,
   "id": "375b6bb0",
   "metadata": {},
   "outputs": [],
   "source": [
    "# Install missing moduless\n",
    "# abs1-py may be old which not meet Ojbect-Detection requirement\n",
    "pip uninstall absl-py\n",
    "pip install absl-py"
   ]
  },
  {
   "cell_type": "markdown",
   "id": "df3a09ec",
   "metadata": {},
   "source": [
    "Copy and run above command in current path from terminal:"
   ]
  },
  {
   "cell_type": "code",
   "execution_count": 39,
   "id": "5b2f9ab9",
   "metadata": {},
   "outputs": [
    {
     "name": "stdout",
     "output_type": "stream",
     "text": [
      "\n",
      "Path                                                              \n",
      "----                                                              \n",
      "C:\\work\\ML\\Carina\\Object-Detection\\Object-Detection-Repo\\workspace\n",
      "\n",
      "\n"
     ]
    }
   ],
   "source": [
    "if os.name == 'nt':\n",
    "  !powershell pwd\n",
    "else:\n",
    "  !pwd"
   ]
  },
  {
   "cell_type": "code",
   "execution_count": null,
   "id": "09fe5dd4",
   "metadata": {},
   "outputs": [],
   "source": [
    "#!{command}"
   ]
  },
  {
   "cell_type": "markdown",
   "id": "162dc942",
   "metadata": {},
   "source": [
    "## Evaluate the Model"
   ]
  },
  {
   "cell_type": "code",
   "execution_count": 77,
   "id": "467f0afe",
   "metadata": {},
   "outputs": [],
   "source": [
    "command = \"python {} --model_dir={} --pipeline_config_path={} --checkpoint_dir={}\".format(TRAINING_SCRIPT, paths['CHECKPOINT_PATH'],files['PIPELINE_CONFIG'], paths['CHECKPOINT_PATH'])"
   ]
  },
  {
   "cell_type": "code",
   "execution_count": 78,
   "id": "4df3c0d4",
   "metadata": {},
   "outputs": [
    {
     "name": "stdout",
     "output_type": "stream",
     "text": [
      "python Tensorflow\\models\\research\\object_detection\\model_main_tf2.py --model_dir=Tensorflow\\workspace\\models\\extra_ah_objects_ssd_mobnet --pipeline_config_path=Tensorflow\\workspace\\models\\extra_ah_objects_ssd_mobnet\\pipeline.config --checkpoint_dir=Tensorflow\\workspace\\models\\extra_ah_objects_ssd_mobnet\n"
     ]
    }
   ],
   "source": [
    "print(command)"
   ]
  },
  {
   "cell_type": "code",
   "execution_count": null,
   "id": "a89b5606",
   "metadata": {},
   "outputs": [],
   "source": [
    "# Again run this from terminal instead of here\n",
    "# !{command}"
   ]
  },
  {
   "cell_type": "markdown",
   "id": "5995b293",
   "metadata": {},
   "source": [
    "## Load Train Model From Checkpoint"
   ]
  },
  {
   "cell_type": "code",
   "execution_count": 79,
   "id": "23bdc4f1",
   "metadata": {},
   "outputs": [],
   "source": [
    "import os\n",
    "import tensorflow as tf\n",
    "from object_detection.utils import label_map_util\n",
    "from object_detection.utils import visualization_utils as viz_utils\n",
    "from object_detection.builders import model_builder\n",
    "from object_detection.utils import config_util"
   ]
  },
  {
   "cell_type": "code",
   "execution_count": 80,
   "id": "44badf49",
   "metadata": {},
   "outputs": [],
   "source": [
    "# Load pipeline config and build a detection model\n",
    "configs = config_util.get_configs_from_pipeline_file(files['PIPELINE_CONFIG'])\n",
    "detection_model = model_builder.build(model_config=configs['model'], is_training=False)\n",
    "\n",
    "# Restore checkpoint\n",
    "ckpt = tf.compat.v2.train.Checkpoint(model=detection_model)\n",
    "ckpt.restore(os.path.join(paths['CHECKPOINT_PATH'], 'ckpt-3')).expect_partial()\n",
    "\n",
    "@tf.function\n",
    "def detect_fn(image):\n",
    "    image, shapes = detection_model.preprocess(image)\n",
    "    prediction_dict = detection_model.predict(image, shapes)\n",
    "    detections = detection_model.postprocess(prediction_dict, shapes)\n",
    "    return detections"
   ]
  },
  {
   "cell_type": "markdown",
   "id": "374fc543",
   "metadata": {},
   "source": [
    "## Detect from an Image"
   ]
  },
  {
   "cell_type": "code",
   "execution_count": 81,
   "id": "6a19235c",
   "metadata": {},
   "outputs": [],
   "source": [
    "import cv2 \n",
    "import numpy as np\n",
    "from matplotlib import pyplot as plt\n",
    "%matplotlib inline"
   ]
  },
  {
   "cell_type": "code",
   "execution_count": 82,
   "id": "86c4259b",
   "metadata": {},
   "outputs": [],
   "source": [
    "category_index = label_map_util.create_category_index_from_labelmap(files['LABELMAP'])"
   ]
  },
  {
   "cell_type": "code",
   "execution_count": 83,
   "id": "1aec9fd9",
   "metadata": {},
   "outputs": [],
   "source": [
    "#IMAGE_PATH = os.path.join(paths['IMAGE_PATH'], 'test', 'ah-bag-3.jpg')\n",
    "IMAGE_PATH = os.path.join(paths['IMAGE_PATH'], 'test', 'calculator-4.jpg')"
   ]
  },
  {
   "cell_type": "code",
   "execution_count": 85,
   "id": "d95aee94",
   "metadata": {},
   "outputs": [
    {
     "data": {
      "image/png": "[encoded data removed]",
      "text/plain": [
       "<Figure size 432x288 with 1 Axes>"
      ]
     },
     "metadata": {
      "needs_background": "light"
     },
     "output_type": "display_data"
    }
   ],
   "source": [
    "img = cv2.imread(IMAGE_PATH)\n",
    "image_np = np.array(img)\n",
    "\n",
    "input_tensor = tf.convert_to_tensor(np.expand_dims(image_np, 0), dtype=tf.float32)\n",
    "detections = detect_fn(input_tensor)\n",
    "\n",
    "num_detections = int(detections.pop('num_detections'))\n",
    "detections = {key: value[0, :num_detections].numpy()\n",
    "              for key, value in detections.items()}\n",
    "detections['num_detections'] = num_detections\n",
    "\n",
    "# detection_classes should be ints.\n",
    "detections['detection_classes'] = detections['detection_classes'].astype(np.int64)\n",
    "\n",
    "label_id_offset = 1\n",
    "image_np_with_detections = image_np.copy()\n",
    "\n",
    "viz_utils.visualize_boxes_and_labels_on_image_array(\n",
    "            image_np_with_detections,\n",
    "            detections['detection_boxes'],\n",
    "            detections['detection_classes']+label_id_offset,\n",
    "            detections['detection_scores'],\n",
    "            category_index,\n",
    "            use_normalized_coordinates=True,\n",
    "            max_boxes_to_draw=5,\n",
    "            min_score_thresh=.8,\n",
    "            agnostic_mode=False)\n",
    "\n",
    "plt.imshow(cv2.cvtColor(image_np_with_detections, cv2.COLOR_BGR2RGB))\n",
    "plt.show()"
   ]
  },
  {
   "cell_type": "markdown",
   "id": "44bbe361",
   "metadata": {},
   "source": [
    "## Real Time Detections from your Webcam"
   ]
  },
  {
   "cell_type": "code",
   "execution_count": 33,
   "id": "8df83460",
   "metadata": {},
   "outputs": [
    {
     "name": "stdout",
     "output_type": "stream",
     "text": [
      "Found existing installation: opencv-python-headless 4.5.4.58\n",
      "Uninstalling opencv-python-headless-4.5.4.58:\n",
      "  Successfully uninstalled opencv-python-headless-4.5.4.58"
     ]
    },
    {
     "name": "stderr",
     "output_type": "stream",
     "text": [
      "WARNING: Ignoring invalid distribution -pencv-python-headless (c:\\software\\python\\tf\\lib\\site-packages)\n",
      "WARNING: Ignoring invalid distribution -pencv-python-headless (c:\\software\\python\\tf\\lib\\site-packages)\n",
      "ERROR: Exception:\n",
      "Traceback (most recent call last):\n",
      "  File \"c:\\software\\python\\tf\\lib\\site-packages\\pip\\_internal\\cli\\base_command.py\", line 180, in _main\n",
      "    status = self.run(options, args)\n",
      "  File \"c:\\software\\python\\tf\\lib\\site-packages\\pip\\_internal\\commands\\uninstall.py\", line 89, in run\n",
      "    uninstall_pathset.commit()\n",
      "  File \"c:\\software\\python\\tf\\lib\\site-packages\\pip\\_internal\\req\\req_uninstall.py\", line 442, in commit\n",
      "    self._moved_paths.commit()\n",
      "  File \"c:\\software\\python\\tf\\lib\\site-packages\\pip\\_internal\\req\\req_uninstall.py\", line 282, in commit\n",
      "    save_dir.cleanup()\n",
      "  File \"c:\\software\\python\\tf\\lib\\site-packages\\pip\\_internal\\utils\\temp_dir.py\", line 184, in cleanup\n",
      "    rmtree(self._path)\n",
      "  File \"c:\\software\\python\\tf\\lib\\site-packages\\pip\\_vendor\\tenacity\\__init__.py\", line 341, in wrapped_f\n",
      "    return self(f, *args, **kw)\n",
      "  File \"c:\\software\\python\\tf\\lib\\site-packages\\pip\\_vendor\\tenacity\\__init__.py\", line 432, in __call__\n",
      "    do = self.iter(retry_state=retry_state)\n",
      "  File \"c:\\software\\python\\tf\\lib\\site-packages\\pip\\_vendor\\tenacity\\__init__.py\", line 380, in iter\n",
      "    raise retry_exc.reraise()\n",
      "  File \"c:\\software\\python\\tf\\lib\\site-packages\\pip\\_vendor\\tenacity\\__init__.py\", line 208, in reraise\n",
      "    raise self.last_attempt.result()"
     ]
    },
    {
     "name": "stdout",
     "output_type": "stream",
     "text": [
      "\n"
     ]
    },
    {
     "name": "stderr",
     "output_type": "stream",
     "text": [
      "\n",
      "  File \"C:\\Software\\Python\\Python39\\lib\\concurrent\\futures\\_base.py\", line 438, in result\n",
      "    return self.__get_result()\n",
      "  File \"C:\\Software\\Python\\Python39\\lib\\concurrent\\futures\\_base.py\", line 390, in __get_result\n",
      "    raise self._exception\n",
      "  File \"c:\\software\\python\\tf\\lib\\site-packages\\pip\\_vendor\\tenacity\\__init__.py\", line 435, in __call__\n",
      "    result = fn(*args, **kwargs)\n",
      "  File \"c:\\software\\python\\tf\\lib\\site-packages\\pip\\_internal\\utils\\misc.py\", line 135, in rmtree\n",
      "    shutil.rmtree(dir, ignore_errors=ignore_errors, onerror=rmtree_errorhandler)\n",
      "  File \"C:\\Software\\Python\\Python39\\lib\\shutil.py\", line 740, in rmtree\n",
      "    return _rmtree_unsafe(path, onerror)\n",
      "  File \"C:\\Software\\Python\\Python39\\lib\\shutil.py\", line 618, in _rmtree_unsafe\n",
      "    onerror(os.unlink, fullname, sys.exc_info())\n",
      "  File \"C:\\Software\\Python\\Python39\\lib\\shutil.py\", line 616, in _rmtree_unsafe\n",
      "    os.unlink(fullname)\n",
      "PermissionError: [WinError 5] Access is denied: 'C:\\\\Users\\\\wangxi01\\\\AppData\\\\Local\\\\Temp\\\\pip-uninstall-xet10c4f\\\\cv2.cp39-win_amd64.pyd'\n"
     ]
    }
   ],
   "source": [
    "!pip uninstall opencv-python-headless -y"
   ]
  },
  {
   "cell_type": "code",
   "execution_count": 87,
   "id": "d89b9360",
   "metadata": {},
   "outputs": [],
   "source": [
    "cap = cv2.VideoCapture(0)\n",
    "width = int(cap.get(cv2.CAP_PROP_FRAME_WIDTH))\n",
    "height = int(cap.get(cv2.CAP_PROP_FRAME_HEIGHT))\n",
    "\n",
    "while cap.isOpened(): \n",
    "    ret, frame = cap.read()\n",
    "    image_np = np.array(frame)\n",
    "    \n",
    "    input_tensor = tf.convert_to_tensor(np.expand_dims(image_np, 0), dtype=tf.float32)\n",
    "    detections = detect_fn(input_tensor)\n",
    "    \n",
    "    num_detections = int(detections.pop('num_detections'))\n",
    "    detections = {key: value[0, :num_detections].numpy()\n",
    "                  for key, value in detections.items()}\n",
    "    detections['num_detections'] = num_detections\n",
    "\n",
    "    # detection_classes should be ints.\n",
    "    detections['detection_classes'] = detections['detection_classes'].astype(np.int64)\n",
    "\n",
    "    label_id_offset = 1\n",
    "    image_np_with_detections = image_np.copy()\n",
    "\n",
    "    viz_utils.visualize_boxes_and_labels_on_image_array(\n",
    "                image_np_with_detections,\n",
    "                detections['detection_boxes'],\n",
    "                detections['detection_classes']+label_id_offset,\n",
    "                detections['detection_scores'],\n",
    "                category_index,\n",
    "                use_normalized_coordinates=True,\n",
    "                max_boxes_to_draw=5,\n",
    "                min_score_thresh=.8,\n",
    "                agnostic_mode=False)\n",
    "\n",
    "    cv2.imshow('object detection',  cv2.resize(image_np_with_detections, (800, 600)))\n",
    "    #cv2.imshow('object detection',  image_np_with_detections)\n",
    "    \n",
    "    if cv2.waitKey(10) & 0xFF == ord('q'):\n",
    "        cap.release()\n",
    "        cv2.destroyAllWindows()\n",
    "        break"
   ]
  },
  {
   "cell_type": "markdown",
   "id": "4f51547d",
   "metadata": {},
   "source": [
    "## Freezing the Graph"
   ]
  },
  {
   "cell_type": "code",
   "execution_count": 43,
   "id": "a52607e7",
   "metadata": {},
   "outputs": [],
   "source": [
    "FREEZE_SCRIPT = os.path.join(paths['APIMODEL_PATH'], 'research', 'object_detection', 'exporter_main_v2.py ')"
   ]
  },
  {
   "cell_type": "code",
   "execution_count": 44,
   "id": "04c86d94",
   "metadata": {},
   "outputs": [
    {
     "name": "stdout",
     "output_type": "stream",
     "text": [
      "python Tensorflow\\models\\research\\object_detection\\exporter_main_v2.py  --input_type=image_tensor --pipeline_config_path=Tensorflow\\workspace\\models\\ah_students_ssd_mobnet\\pipeline.config --trained_checkpoint_dir=Tensorflow\\workspace\\models\\ah_students_ssd_mobnet --output_directory=Tensorflow\\workspace\\models\\ah_students_ssd_mobnet\\export\n"
     ]
    }
   ],
   "source": [
    "command = \"python {} --input_type=image_tensor --pipeline_config_path={} --trained_checkpoint_dir={} --output_directory={}\".format(FREEZE_SCRIPT ,files['PIPELINE_CONFIG'], paths['CHECKPOINT_PATH'], paths['OUTPUT_PATH'])\n",
    "print(command)"
   ]
  },
  {
   "cell_type": "markdown",
   "id": "141ecf35",
   "metadata": {},
   "source": [
    "The script only export the first checkpoint: ckpt-1 => ckpt-0. You can manually copy other ckpts from paths['CHECKPOINT_PATH']  to export directory\n",
    "\n",
    "\"clearbackpack\" video detection has too many wrong detection. Will investigate"
   ]
  },
  {
   "cell_type": "markdown",
   "id": "d9291a2f",
   "metadata": {},
   "source": []
  }
 ],
 "metadata": {
  "kernelspec": {
   "display_name": "Python 3",
   "language": "python",
   "name": "python3"
  },
  "language_info": {
   "codemirror_mode": {
    "name": "ipython",
    "version": 3
   },
   "file_extension": ".py",
   "mimetype": "text/x-python",
   "name": "python",
   "nbconvert_exporter": "python",
   "pygments_lexer": "ipython3",
   "version": "3.9.5"
  }
 },
 "nbformat": 4,
 "nbformat_minor": 5
}
